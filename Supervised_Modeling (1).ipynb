{
  "nbformat": 4,
  "nbformat_minor": 0,
  "metadata": {
    "colab": {
      "provenance": []
    },
    "kernelspec": {
      "name": "python3",
      "display_name": "Python 3"
    },
    "language_info": {
      "name": "python"
    }
  },
  "cells": [
    {
      "cell_type": "markdown",
      "source": [
        "# Table Of Contents"
      ],
      "metadata": {
        "id": "nCt7e6mMb0ev"
      }
    },
    {
      "cell_type": "markdown",
      "source": [
        ">[Table Of Contents](#scrollTo=nCt7e6mMb0ev)\n",
        "\n",
        ">[Questions](#scrollTo=yTR-CF3NQcq-)\n",
        "\n",
        ">>[Question 1](#scrollTo=BR1qb7NsQfQ7)\n",
        "\n",
        ">>>[Q 1 description](#scrollTo=NLy34aT70AUS)\n",
        "\n",
        ">>[Question 2](#scrollTo=S6fP_vYtQnk1)\n",
        "\n",
        ">>>[Q 2 description](#scrollTo=X0ksQsNR0JgD)\n",
        "\n",
        ">>[Question 3](#scrollTo=t__pZjDrQs44)\n",
        "\n",
        ">>>[Q 3 description:](#scrollTo=V_HvQh1KkIba)\n",
        "\n",
        ">>>[Probabilities](#scrollTo=c8t_-9duQzEu)\n",
        "\n",
        ">[Conclusion](#scrollTo=j2BB29FUQ3hN)\n",
        "\n"
      ],
      "metadata": {
        "colab_type": "toc",
        "id": "RBf169PqYRLS"
      }
    },
    {
      "cell_type": "code",
      "source": [
        "import pandas as pd"
      ],
      "metadata": {
        "id": "ES73aHBccN8E"
      },
      "execution_count": null,
      "outputs": []
    },
    {
      "cell_type": "code",
      "source": [
        "df = pd.read_csv('cars_2021_v0_1.csv')"
      ],
      "metadata": {
        "id": "anz7E-UUpGK6"
      },
      "execution_count": null,
      "outputs": []
    },
    {
      "cell_type": "code",
      "source": [
        "df.head(5)"
      ],
      "metadata": {
        "colab": {
          "base_uri": "https://localhost:8080/",
          "height": 334
        },
        "id": "TRgTr1IypZR_",
        "outputId": "b3434642-c549-4845-a0ae-13ef9a38e960"
      },
      "execution_count": null,
      "outputs": [
        {
          "output_type": "execute_result",
          "data": {
            "text/plain": [
              "   Unnamed: 0  POTENCIA1 (cv)  PUERTAS  PRECIO  Emisiones CO2 (gr/km)  \\\n",
              "0           0             145      3.0   20934                  155.0   \n",
              "1           1             145      2.0   22834                  156.0   \n",
              "2           2             165      3.0   23934                  157.0   \n",
              "3           3             165      2.0   25834                  158.0   \n",
              "4           4             165      3.0   25884                  157.0   \n",
              "\n",
              "   Autonomía (km)  Consumo (l/100km)  Garantía (meses)  Motor (cc)  \\\n",
              "0           583.3                6.0         30.874809      1368.0   \n",
              "1           583.3                6.0         30.874809      1368.0   \n",
              "2           583.3                6.0         30.874809      1368.0   \n",
              "3           583.3                6.0         30.874809      1368.0   \n",
              "4           583.3                6.0         30.874809      1368.0   \n",
              "\n",
              "   Capacidad depósito (lts)  ...  Carrocería_Convertible   Carrocería_Coupe   \\\n",
              "0                      35.0  ...                        0                  0   \n",
              "1                      35.0  ...                        1                  0   \n",
              "2                      35.0  ...                        0                  0   \n",
              "3                      35.0  ...                        1                  0   \n",
              "4                      35.0  ...                        0                  0   \n",
              "\n",
              "   Carrocería_Furgon   Carrocería_Monovolumen   Carrocería_Pick-Up   \\\n",
              "0                   0                        0                    0   \n",
              "1                   0                        0                    0   \n",
              "2                   0                        0                    0   \n",
              "3                   0                        0                    0   \n",
              "4                   0                        0                    0   \n",
              "\n",
              "   Carrocería_Pick-Up Doble Cabina   Carrocería_Roadster   \\\n",
              "0                                 0                     0   \n",
              "1                                 0                     0   \n",
              "2                                 0                     0   \n",
              "3                                 0                     0   \n",
              "4                                 0                     0   \n",
              "\n",
              "   Carrocería_Stationwagon   Carrocería_Targa   Carrocería_Todo Terreno   \n",
              "0                         0                  0                         0  \n",
              "1                         0                  0                         0  \n",
              "2                         0                  0                         0  \n",
              "3                         0                  0                         0  \n",
              "4                         0                  0                         0  \n",
              "\n",
              "[5 rows x 100 columns]"
            ],
            "text/html": [
              "\n",
              "  <div id=\"df-72401e98-74f4-4546-ae36-bcb6b66e0d21\">\n",
              "    <div class=\"colab-df-container\">\n",
              "      <div>\n",
              "<style scoped>\n",
              "    .dataframe tbody tr th:only-of-type {\n",
              "        vertical-align: middle;\n",
              "    }\n",
              "\n",
              "    .dataframe tbody tr th {\n",
              "        vertical-align: top;\n",
              "    }\n",
              "\n",
              "    .dataframe thead th {\n",
              "        text-align: right;\n",
              "    }\n",
              "</style>\n",
              "<table border=\"1\" class=\"dataframe\">\n",
              "  <thead>\n",
              "    <tr style=\"text-align: right;\">\n",
              "      <th></th>\n",
              "      <th>Unnamed: 0</th>\n",
              "      <th>POTENCIA1 (cv)</th>\n",
              "      <th>PUERTAS</th>\n",
              "      <th>PRECIO</th>\n",
              "      <th>Emisiones CO2 (gr/km)</th>\n",
              "      <th>Autonomía (km)</th>\n",
              "      <th>Consumo (l/100km)</th>\n",
              "      <th>Garantía (meses)</th>\n",
              "      <th>Motor (cc)</th>\n",
              "      <th>Capacidad depósito (lts)</th>\n",
              "      <th>...</th>\n",
              "      <th>Carrocería_Convertible</th>\n",
              "      <th>Carrocería_Coupe</th>\n",
              "      <th>Carrocería_Furgon</th>\n",
              "      <th>Carrocería_Monovolumen</th>\n",
              "      <th>Carrocería_Pick-Up</th>\n",
              "      <th>Carrocería_Pick-Up Doble Cabina</th>\n",
              "      <th>Carrocería_Roadster</th>\n",
              "      <th>Carrocería_Stationwagon</th>\n",
              "      <th>Carrocería_Targa</th>\n",
              "      <th>Carrocería_Todo Terreno</th>\n",
              "    </tr>\n",
              "  </thead>\n",
              "  <tbody>\n",
              "    <tr>\n",
              "      <th>0</th>\n",
              "      <td>0</td>\n",
              "      <td>145</td>\n",
              "      <td>3.0</td>\n",
              "      <td>20934</td>\n",
              "      <td>155.0</td>\n",
              "      <td>583.3</td>\n",
              "      <td>6.0</td>\n",
              "      <td>30.874809</td>\n",
              "      <td>1368.0</td>\n",
              "      <td>35.0</td>\n",
              "      <td>...</td>\n",
              "      <td>0</td>\n",
              "      <td>0</td>\n",
              "      <td>0</td>\n",
              "      <td>0</td>\n",
              "      <td>0</td>\n",
              "      <td>0</td>\n",
              "      <td>0</td>\n",
              "      <td>0</td>\n",
              "      <td>0</td>\n",
              "      <td>0</td>\n",
              "    </tr>\n",
              "    <tr>\n",
              "      <th>1</th>\n",
              "      <td>1</td>\n",
              "      <td>145</td>\n",
              "      <td>2.0</td>\n",
              "      <td>22834</td>\n",
              "      <td>156.0</td>\n",
              "      <td>583.3</td>\n",
              "      <td>6.0</td>\n",
              "      <td>30.874809</td>\n",
              "      <td>1368.0</td>\n",
              "      <td>35.0</td>\n",
              "      <td>...</td>\n",
              "      <td>1</td>\n",
              "      <td>0</td>\n",
              "      <td>0</td>\n",
              "      <td>0</td>\n",
              "      <td>0</td>\n",
              "      <td>0</td>\n",
              "      <td>0</td>\n",
              "      <td>0</td>\n",
              "      <td>0</td>\n",
              "      <td>0</td>\n",
              "    </tr>\n",
              "    <tr>\n",
              "      <th>2</th>\n",
              "      <td>2</td>\n",
              "      <td>165</td>\n",
              "      <td>3.0</td>\n",
              "      <td>23934</td>\n",
              "      <td>157.0</td>\n",
              "      <td>583.3</td>\n",
              "      <td>6.0</td>\n",
              "      <td>30.874809</td>\n",
              "      <td>1368.0</td>\n",
              "      <td>35.0</td>\n",
              "      <td>...</td>\n",
              "      <td>0</td>\n",
              "      <td>0</td>\n",
              "      <td>0</td>\n",
              "      <td>0</td>\n",
              "      <td>0</td>\n",
              "      <td>0</td>\n",
              "      <td>0</td>\n",
              "      <td>0</td>\n",
              "      <td>0</td>\n",
              "      <td>0</td>\n",
              "    </tr>\n",
              "    <tr>\n",
              "      <th>3</th>\n",
              "      <td>3</td>\n",
              "      <td>165</td>\n",
              "      <td>2.0</td>\n",
              "      <td>25834</td>\n",
              "      <td>158.0</td>\n",
              "      <td>583.3</td>\n",
              "      <td>6.0</td>\n",
              "      <td>30.874809</td>\n",
              "      <td>1368.0</td>\n",
              "      <td>35.0</td>\n",
              "      <td>...</td>\n",
              "      <td>1</td>\n",
              "      <td>0</td>\n",
              "      <td>0</td>\n",
              "      <td>0</td>\n",
              "      <td>0</td>\n",
              "      <td>0</td>\n",
              "      <td>0</td>\n",
              "      <td>0</td>\n",
              "      <td>0</td>\n",
              "      <td>0</td>\n",
              "    </tr>\n",
              "    <tr>\n",
              "      <th>4</th>\n",
              "      <td>4</td>\n",
              "      <td>165</td>\n",
              "      <td>3.0</td>\n",
              "      <td>25884</td>\n",
              "      <td>157.0</td>\n",
              "      <td>583.3</td>\n",
              "      <td>6.0</td>\n",
              "      <td>30.874809</td>\n",
              "      <td>1368.0</td>\n",
              "      <td>35.0</td>\n",
              "      <td>...</td>\n",
              "      <td>0</td>\n",
              "      <td>0</td>\n",
              "      <td>0</td>\n",
              "      <td>0</td>\n",
              "      <td>0</td>\n",
              "      <td>0</td>\n",
              "      <td>0</td>\n",
              "      <td>0</td>\n",
              "      <td>0</td>\n",
              "      <td>0</td>\n",
              "    </tr>\n",
              "  </tbody>\n",
              "</table>\n",
              "<p>5 rows × 100 columns</p>\n",
              "</div>\n",
              "      <button class=\"colab-df-convert\" onclick=\"convertToInteractive('df-72401e98-74f4-4546-ae36-bcb6b66e0d21')\"\n",
              "              title=\"Convert this dataframe to an interactive table.\"\n",
              "              style=\"display:none;\">\n",
              "        \n",
              "  <svg xmlns=\"http://www.w3.org/2000/svg\" height=\"24px\"viewBox=\"0 0 24 24\"\n",
              "       width=\"24px\">\n",
              "    <path d=\"M0 0h24v24H0V0z\" fill=\"none\"/>\n",
              "    <path d=\"M18.56 5.44l.94 2.06.94-2.06 2.06-.94-2.06-.94-.94-2.06-.94 2.06-2.06.94zm-11 1L8.5 8.5l.94-2.06 2.06-.94-2.06-.94L8.5 2.5l-.94 2.06-2.06.94zm10 10l.94 2.06.94-2.06 2.06-.94-2.06-.94-.94-2.06-.94 2.06-2.06.94z\"/><path d=\"M17.41 7.96l-1.37-1.37c-.4-.4-.92-.59-1.43-.59-.52 0-1.04.2-1.43.59L10.3 9.45l-7.72 7.72c-.78.78-.78 2.05 0 2.83L4 21.41c.39.39.9.59 1.41.59.51 0 1.02-.2 1.41-.59l7.78-7.78 2.81-2.81c.8-.78.8-2.07 0-2.86zM5.41 20L4 18.59l7.72-7.72 1.47 1.35L5.41 20z\"/>\n",
              "  </svg>\n",
              "      </button>\n",
              "      \n",
              "  <style>\n",
              "    .colab-df-container {\n",
              "      display:flex;\n",
              "      flex-wrap:wrap;\n",
              "      gap: 12px;\n",
              "    }\n",
              "\n",
              "    .colab-df-convert {\n",
              "      background-color: #E8F0FE;\n",
              "      border: none;\n",
              "      border-radius: 50%;\n",
              "      cursor: pointer;\n",
              "      display: none;\n",
              "      fill: #1967D2;\n",
              "      height: 32px;\n",
              "      padding: 0 0 0 0;\n",
              "      width: 32px;\n",
              "    }\n",
              "\n",
              "    .colab-df-convert:hover {\n",
              "      background-color: #E2EBFA;\n",
              "      box-shadow: 0px 1px 2px rgba(60, 64, 67, 0.3), 0px 1px 3px 1px rgba(60, 64, 67, 0.15);\n",
              "      fill: #174EA6;\n",
              "    }\n",
              "\n",
              "    [theme=dark] .colab-df-convert {\n",
              "      background-color: #3B4455;\n",
              "      fill: #D2E3FC;\n",
              "    }\n",
              "\n",
              "    [theme=dark] .colab-df-convert:hover {\n",
              "      background-color: #434B5C;\n",
              "      box-shadow: 0px 1px 3px 1px rgba(0, 0, 0, 0.15);\n",
              "      filter: drop-shadow(0px 1px 2px rgba(0, 0, 0, 0.3));\n",
              "      fill: #FFFFFF;\n",
              "    }\n",
              "  </style>\n",
              "\n",
              "      <script>\n",
              "        const buttonEl =\n",
              "          document.querySelector('#df-72401e98-74f4-4546-ae36-bcb6b66e0d21 button.colab-df-convert');\n",
              "        buttonEl.style.display =\n",
              "          google.colab.kernel.accessAllowed ? 'block' : 'none';\n",
              "\n",
              "        async function convertToInteractive(key) {\n",
              "          const element = document.querySelector('#df-72401e98-74f4-4546-ae36-bcb6b66e0d21');\n",
              "          const dataTable =\n",
              "            await google.colab.kernel.invokeFunction('convertToInteractive',\n",
              "                                                     [key], {});\n",
              "          if (!dataTable) return;\n",
              "\n",
              "          const docLinkHtml = 'Like what you see? Visit the ' +\n",
              "            '<a target=\"_blank\" href=https://colab.research.google.com/notebooks/data_table.ipynb>data table notebook</a>'\n",
              "            + ' to learn more about interactive tables.';\n",
              "          element.innerHTML = '';\n",
              "          dataTable['output_type'] = 'display_data';\n",
              "          await google.colab.output.renderOutput(dataTable, element);\n",
              "          const docLink = document.createElement('div');\n",
              "          docLink.innerHTML = docLinkHtml;\n",
              "          element.appendChild(docLink);\n",
              "        }\n",
              "      </script>\n",
              "    </div>\n",
              "  </div>\n",
              "  "
            ]
          },
          "metadata": {},
          "execution_count": 69
        }
      ]
    },
    {
      "cell_type": "code",
      "source": [
        "max_precio = df['PRECIO'].max()\n",
        "print(max_precio)"
      ],
      "metadata": {
        "colab": {
          "base_uri": "https://localhost:8080/"
        },
        "id": "2qH-HzHzPnbw",
        "outputId": "9c5efaf7-9e43-483c-9483-88d5bb164ba4"
      },
      "execution_count": null,
      "outputs": [
        {
          "output_type": "stream",
          "name": "stdout",
          "text": [
            "337871\n"
          ]
        }
      ]
    },
    {
      "cell_type": "code",
      "source": [
        "max_price_row = df[df['PRECIO'] == df['PRECIO'].max()]\n",
        "print(max_price_row)\n"
      ],
      "metadata": {
        "id": "xWGie5cjQC5r",
        "colab": {
          "base_uri": "https://localhost:8080/"
        },
        "outputId": "c58756de-6053-41aa-a08b-b87c9a9bdd22"
      },
      "execution_count": null,
      "outputs": [
        {
          "output_type": "stream",
          "name": "stdout",
          "text": [
            "    Unnamed: 0  POTENCIA1 (cv)  PUERTAS  PRECIO  Emisiones CO2 (gr/km)  \\\n",
            "44          44             725      2.0  337871                  295.0   \n",
            "\n",
            "    Autonomía (km)  Consumo (l/100km)  Garantía (meses)  Motor (cc)  \\\n",
            "44     1125.020364               12.3              24.0      5204.0   \n",
            "\n",
            "    Capacidad depósito (lts)  ...  Carrocería_Convertible   Carrocería_Coupe   \\\n",
            "44                 60.435929  ...                        0                  1   \n",
            "\n",
            "    Carrocería_Furgon   Carrocería_Monovolumen   Carrocería_Pick-Up   \\\n",
            "44                   0                        0                    0   \n",
            "\n",
            "    Carrocería_Pick-Up Doble Cabina   Carrocería_Roadster   \\\n",
            "44                                 0                     0   \n",
            "\n",
            "    Carrocería_Stationwagon   Carrocería_Targa   Carrocería_Todo Terreno   \n",
            "44                         0                  0                         0  \n",
            "\n",
            "[1 rows x 100 columns]\n"
          ]
        }
      ]
    },
    {
      "cell_type": "code",
      "source": [
        "count = sum(1 for col in df.columns if 'Carrocería' in col)\n",
        "print(count)\n"
      ],
      "metadata": {
        "colab": {
          "base_uri": "https://localhost:8080/"
        },
        "id": "E0_DVcFfSAus",
        "outputId": "06464865-5597-457b-864b-bc3da09adb6e"
      },
      "execution_count": null,
      "outputs": [
        {
          "output_type": "stream",
          "name": "stdout",
          "text": [
            "15\n"
          ]
        }
      ]
    },
    {
      "cell_type": "markdown",
      "source": [
        "#Questions"
      ],
      "metadata": {
        "id": "yTR-CF3NQcq-"
      }
    },
    {
      "cell_type": "markdown",
      "source": [
        "Question 1:\n",
        "You have to predict the price of a car, given values of several other features which include both categorical and numerical values.\n",
        "\n",
        "Question 2:\n",
        "Out of several features, there are only 2 given exactly, and the range of 1 more feature if given. Now, we are asked to predict the range of prices for a car.\n",
        "\n",
        "\n",
        "Question 3:\n",
        "In this question, we are given the values of a few features out of several features, and based on that, we are asked to predict a categorical variable. And along wiht that, we have to assign probabilities to our prediction."
      ],
      "metadata": {
        "id": "8FGL-zwduOyE"
      }
    },
    {
      "cell_type": "markdown",
      "source": [
        "Random Forest Regressor is considered better than multiple regression for a few reasons:\n",
        "\n",
        "\n",
        "--> Non-Linear Relationships: Random Forest Regressor is capable of modeling non-linear relationships between variables, while multiple regression is limited to linear relationships.\n",
        "\n",
        "--> Overfitting: Multiple regression is prone to overfitting when you have a lot of features, but Random Forest Regressor uses an ensemble of decision trees, which helps to reduce overfitting and improve the generalization of the model.\n",
        "\n",
        "--> Feature Importance: Random Forest Regressor provides feature importance measures, which can help you identify the most important variables in the model, while multiple regression does not provide this information.\n",
        "\n",
        "--> Handling Outliers: Random Forest Regressor is robust to outliers, meaning that it can handle extreme values in the data without being greatly affected, while multiple regression is sensitive to outliers and can lead to biased results.\n",
        "\n",
        "--> Handling Categorical Variables: Random Forest Regressor can handle categorical variables without having to convert them into numerical values, which is often required in multiple regression.\n",
        "(Although in our case, this issue has already been taken care of in the dataset preparation stage.)"
      ],
      "metadata": {
        "id": "aSdWLYchjOZu"
      }
    },
    {
      "cell_type": "markdown",
      "source": [
        "##Question 1\n"
      ],
      "metadata": {
        "id": "BR1qb7NsQfQ7"
      }
    },
    {
      "cell_type": "markdown",
      "source": [
        "### Q 1 description"
      ],
      "metadata": {
        "id": "NLy34aT70AUS"
      }
    },
    {
      "cell_type": "markdown",
      "source": [
        "This code is implementing a Random Forest Regressor machine learning model in Python to predict the prices of a car dataset. The first part of the code loads the dataset and separates the target (price) and feature variables. Then, the model is initiated with a set of default hyperparameters, and a coarse-to-fine hyperparameter search is performed using GridSearchCV to find the best hyperparameters. \n",
        "\n",
        "The parameters being tuned in this code are n_estimators and max_depth. n_estimators is the number of trees in the forest. A larger number of trees will typically result in a more robust and accurate model, but at the cost of increased computation time.\n",
        "\n",
        "max_depth is the maximum depth of each tree in the forest. A deeper tree can model more complex relationships in the data, but can also lead to overfitting, where the model becomes too specific to the training data and does not generalize well to new data.\n",
        "\n",
        "The GridSearchCV function performs a coarse-to-fine hyperparameter search by trying different combinations of hyperparameters and selecting the combination that results in the best performance, as measured by a specified scoring metric. In this case, the scoring metric is not specified, so the default metric, which is often mean squared error, is used.\n",
        "\n",
        "By tuning the n_estimators and max_depth hyperparameters, the model can be optimized to balance accuracy and computational efficiency, while avoiding overfitting.\n",
        "\n",
        "The best hyperparameters are then used to initialize the model, which is then trained on the data. Finally, the code calculates the standard deviation of the predictions, creates a confidence interval, and predicts the price of a single sample using the trained model."
      ],
      "metadata": {
        "id": "kTElrbuN0CnO"
      }
    },
    {
      "cell_type": "code",
      "source": [
        "# Using random forest regressor is good cuz it can deal very well with both numerical and categorical variables\n",
        "answers = {}\n",
        "# Import libraries\n",
        "import warnings\n",
        "warnings.simplefilter(\"ignore\")\n",
        "import numpy as np\n",
        "from sklearn.model_selection import GridSearchCV\n",
        "from sklearn.ensemble import RandomForestRegressor\n",
        "\n",
        "# load the dataset\n",
        "df \n",
        "\n",
        "# separate the target and feature variables\n",
        "X = df.drop('PRECIO', axis=1)\n",
        "y = df['PRECIO']\n",
        "\n",
        "# Instantiate the model\n",
        "# Both types of initiations work\n",
        "rf = RandomForestRegressor(n_estimators =10, max_depth=5,n_jobs=-1)\n",
        "#rf = RandomForestRegressor()\n",
        "\n",
        "# set the coarse-to-fine hyperparameter grid\n",
        "coarse_grid = {\n",
        "    \"n_estimators\": [10, 20, 50],\n",
        "    \"max_depth\": [3, 5, 7]\n",
        "}\n",
        "\n",
        "# perform the coarse-to-fine hyperparameter search\n",
        "coarse_search = GridSearchCV(\n",
        "    rf,\n",
        "    param_grid=coarse_grid,\n",
        "    scoring=\"neg_mean_squared_error\",\n",
        "    cv=5,\n",
        "    return_train_score=True\n",
        ")\n",
        "\n",
        "# fit the model to the training data\n",
        "coarse_search.fit(X, y)\n",
        "\n",
        "# retrieve the best hyperparameters\n",
        "best_params = coarse_search.best_params_\n",
        "\n",
        "print(best_params)\n",
        "\n",
        "# initialize the model with the best hyperparameters\n",
        "# Doesnt work with this\n",
        "rf = RandomForestRegressor(best_params)\n",
        "# But works with this, no matte how I initiate the rf above(both ways)\n",
        "rf = RandomForestRegressor(**best_params)\n",
        "\n",
        "# fit the model to the training data\n",
        "rf.fit(X, y)\n",
        "\n",
        "\n",
        "# Predict the prices(y_pred = rf.predict(X))\n"
      ],
      "metadata": {
        "colab": {
          "base_uri": "https://localhost:8080/"
        },
        "id": "7R-KYP_ZDm8b",
        "outputId": "1d20eebb-d7d4-4321-8ce9-90bf36e4a45b"
      },
      "execution_count": null,
      "outputs": [
        {
          "output_type": "stream",
          "name": "stdout",
          "text": [
            "{'max_depth': 7, 'n_estimators': 50}\n"
          ]
        },
        {
          "output_type": "execute_result",
          "data": {
            "text/plain": [
              "RandomForestRegressor(max_depth=7, n_estimators=50)"
            ]
          },
          "metadata": {},
          "execution_count": 73
        }
      ]
    },
    {
      "cell_type": "markdown",
      "source": [
        "The code given below is the 95% confidence interval for every prediction. "
      ],
      "metadata": {
        "id": "hIr-BwAZmhwF"
      }
    },
    {
      "cell_type": "code",
      "source": [
        "# Get the predictions for the test data\n",
        "y_pred = rf.predict(X)\n",
        "\n",
        "# Get the standard deviation of the predictions\n",
        "y_std = np.std(y_pred)\n",
        "\n",
        "# Calculate the lower and upper bounds of the confidence interval\n",
        "confidence = 0.95\n",
        "lower = y_pred - 1.96 * y_std / np.sqrt(len(y_pred))\n",
        "upper = y_pred + 1.96 * y_std / np.sqrt(len(y_pred))\n",
        "\n",
        "# Print the confidence interval\n",
        "#print(lower, upper)"
      ],
      "metadata": {
        "id": "nmTcvM3xaeOq"
      },
      "execution_count": null,
      "outputs": []
    },
    {
      "cell_type": "markdown",
      "source": [
        "The following 2 code snippets give us the prediction, and the corresponding 95% confidence interval of our prediction."
      ],
      "metadata": {
        "id": "v6v4O8Ejm3q1"
      }
    },
    {
      "cell_type": "code",
      "source": [
        "import warnings\n",
        "warnings.simplefilter(\"ignore\")\n",
        "# create a dictionary that maps the categorical variables to their values in the new sample\n",
        "data = {\n",
        "    \"BRAND_Toyota\":1,\n",
        "    \"POTENCIA1 (cv)\":280,\n",
        "    \"PUERTAS_4.0\":1,\n",
        "    \"COMBUSTIBLE_Gasolina\":1,\n",
        "    \"CO2_ambar\":1,\n",
        "    \"Tracción_Tracción total permanente \":1,\n",
        "    \"Transmisión_Automática secuencial \":1,\n",
        "    \"Emisiones CO2 (gr/km)\":154.0,\n",
        "    \"Autonomía (km)\":840.6,\n",
        "    \"Consumo (l/100km)\":6.9,\n",
        "    \"Garantía (meses)\":24.0,\n",
        "    \"Motor (cc)\":1995.0,\n",
        "    \"Capacidad depósito (lts)\":58.0,\n",
        "    \"Velocidad Máxima (km/h)\":240.0,\n",
        "    \"Aceleración (0-100 km) (s)\":5.2,\n",
        "    \"Revoluciones Potencia Máxima (rpm)\":5250.0,\n",
        "    \"Par motor (Nm)\":400.0,\n",
        "    \"Carrocería_Berlina \":1,\n",
        "    \"Peso (kg)\":1530.0,\n",
        "    \"Largo (mm)\":4650.0,\n",
        "    \"Ancho (mm)\":1860.0,\n",
        "    \"Alto (mm)\":1438.0,\n",
        "}\n",
        "\n",
        "columns = list(data.keys())\n",
        "\n",
        "df_data = pd.DataFrame(data, index=columns)\n",
        "\n",
        "# Match the columns of the new data with the columns of the original data\n",
        "df_new = df.reindex(columns=df.columns, fill_value=0)\n",
        "\n",
        "# Fill any missing values with zeros\n",
        "df_new.fillna(0, inplace=True)\n",
        "\n",
        "# Create a new DataFrame without the 'PRECIO' column\n",
        "df_new = df[df.columns.difference(['PRECIO'])]\n",
        "\n",
        "# Get the single row that you want to predict\n",
        "single_row = df_new.iloc[0,:]\n",
        "\n",
        "# Make the prediction for that row\n",
        "y_pred = rf.predict(single_row.values.reshape(1, -1))\n",
        "print(y_pred)\n"
      ],
      "metadata": {
        "colab": {
          "base_uri": "https://localhost:8080/"
        },
        "id": "Id4_yvS_8AkR",
        "outputId": "91b65fce-df6c-4c8e-f977-555d749120cf"
      },
      "execution_count": null,
      "outputs": [
        {
          "output_type": "stream",
          "name": "stdout",
          "text": [
            "[171915.26601984]\n"
          ]
        }
      ]
    },
    {
      "cell_type": "code",
      "source": [
        "import warnings\n",
        "warnings.simplefilter(\"ignore\")\n",
        "import numpy as np\n",
        "from scipy.stats import norm\n",
        "\n",
        "# Make the prediction\n",
        "y_pred = rf.predict(single_row.values.reshape(1, -1))\n",
        "\n",
        "# Get the standard deviation of the residuals\n",
        "residuals = y_pred - df[\"PRECIO\"]\n",
        "std_residuals = np.std(residuals)\n",
        "\n",
        "# Calculate the standard error of the prediction\n",
        "se = std_residuals / np.sqrt(df.shape[0] - len(rf.estimators_))\n",
        "\n",
        "# Calculate the confidence interval\n",
        "alpha = 0.05\n",
        "z = norm.ppf(1 - alpha / 2)\n",
        "lower = y_pred - z * se\n",
        "upper = y_pred + z * se\n",
        "\n",
        "print(\"Prediction:\", y_pred[0])\n",
        "print(\"Confidence interval: [{:.2f}, {:.2f}]\".format(lower[0], upper[0]))\n",
        "answers[\"1\"] = y_pred[0]"
      ],
      "metadata": {
        "colab": {
          "base_uri": "https://localhost:8080/"
        },
        "id": "-BcpOVuQk4V3",
        "outputId": "7dde5007-0e54-4236-fa15-c3d4c012f460"
      },
      "execution_count": null,
      "outputs": [
        {
          "output_type": "stream",
          "name": "stdout",
          "text": [
            "Prediction: 171915.26601984128\n",
            "Confidence interval: [171103.43, 172727.11]\n"
          ]
        }
      ]
    },
    {
      "cell_type": "markdown",
      "source": [
        "##Question 2\n"
      ],
      "metadata": {
        "id": "S6fP_vYtQnk1"
      }
    },
    {
      "cell_type": "markdown",
      "source": [
        "### Q 2 description"
      ],
      "metadata": {
        "id": "X0ksQsNR0JgD"
      }
    },
    {
      "cell_type": "markdown",
      "source": [
        "The code is a script to train and predict a random forest regressor machine learning model. The model is used to predict the price of a car based on its number of doors, engine power, and brand. The script starts by loading a dataframe 'df' and separating the target and feature variables. The feature variables include the number of doors and engine power, as well as all the columns that contain the word 'BRAND'. \n",
        "\n",
        "The script performs a coarse-to-fine hyperparameter search to find the best hyperparameters for the model, which are then used to initialize the random forest regressor model. The model is then fit to the training data. The parameters being tuned in this code are n_estimators and max_depth. n_estimators is the number of trees in the forest. To avoid repetition, we would like to mention that the reasons of performing hyperparameter tuning on these 2 parameters are the same as mentioned in the first description. \n",
        "\n",
        "Finally, the script makes predictions on two unseen data points, each representing a car with two doors, an engine power of 200 or 300 and a Mercedes brand. The prediction for each data point is made by first transforming the data into the correct format and then using the fitted random forest regressor model to predict the car's price."
      ],
      "metadata": {
        "id": "1UhSReBD0L4K"
      }
    },
    {
      "cell_type": "code",
      "source": [
        "import numpy as np\n",
        "from sklearn.ensemble import RandomForestRegressor\n",
        "from sklearn.model_selection import GridSearchCV\n",
        "\n",
        "# load the dataset\n",
        "df \n",
        "\n",
        "# separate the target and feature variables\n",
        "cols = ['PUERTAS','POTENCIA1 (cv)']\n",
        "df_new1 = df[cols]\n",
        "# Create a dataframe with all the columns containing the word \"BRAND\"\n",
        "cols_to_keep = [col for col in df.columns if 'BRAND' in col]\n",
        "df_new2 = df[cols_to_keep]\n",
        "\n",
        "# Concatenate the existing dataframe and the brand dataframe\n",
        "X = pd.concat([df_new1, df_new2], axis=1)\n",
        "y = df['PRECIO']\n",
        "\n",
        "# set the coarse-to-fine hyperparameter grid\n",
        "coarse_grid = {\n",
        "    \"n_estimators\": [10, 20, 50],\n",
        "    \"max_depth\": [3, 5, 7]\n",
        "}\n",
        "\n",
        "# initialize the Random Forest Regressor model\n",
        "rf = RandomForestRegressor()\n",
        "\n",
        "# perform the coarse-to-fine hyperparameter search\n",
        "coarse_search = GridSearchCV(\n",
        "    rf,\n",
        "    param_grid=coarse_grid,\n",
        "    scoring=\"neg_mean_squared_error\",\n",
        "    cv=5,\n",
        "    return_train_score=True\n",
        ")\n",
        "\n",
        "# fit the model to the training data\n",
        "coarse_search.fit(X, y)\n",
        "\n",
        "# retrieve the best hyperparameters\n",
        "best_params = coarse_search.best_params_\n",
        "\n",
        "print(best_params)\n",
        "\n",
        "# initialize the model with the best hyperparameters\n",
        "rf = RandomForestRegressor(**best_params)\n",
        "\n",
        "# fit the model to the training data\n",
        "rf.fit(X, y)\n",
        "\n",
        "\n"
      ],
      "metadata": {
        "colab": {
          "base_uri": "https://localhost:8080/"
        },
        "id": "ks_K1TxW-mTs",
        "outputId": "328d16ff-44e2-4f35-f582-0e65f0f7bfce"
      },
      "execution_count": null,
      "outputs": [
        {
          "output_type": "stream",
          "name": "stdout",
          "text": [
            "{'max_depth': 5, 'n_estimators': 20}\n"
          ]
        },
        {
          "output_type": "execute_result",
          "data": {
            "text/plain": [
              "RandomForestRegressor(max_depth=5, n_estimators=20)"
            ]
          },
          "metadata": {},
          "execution_count": 77
        }
      ]
    },
    {
      "cell_type": "code",
      "source": [
        "# Define the range of power (potencia) values\n",
        "potencia_range = [200, 300]\n",
        "\n",
        "# Create a list to store the predicted prices\n",
        "price_range = []\n",
        "\n",
        "# Iterate through the power (potencia) values\n",
        "for potencia in potencia_range:\n",
        "    # Create a temporary dataframe with the input values\n",
        "    temp_df = pd.DataFrame({'PUERTAS': [2], 'POTENCIA1 (cv)': [potencia]})\n",
        "    cols_to_keep = [col for col in df.columns if 'BRAND' in col]\n",
        "    brand_df = pd.DataFrame(np.zeros((1, len(cols_to_keep))), columns=cols_to_keep)\n",
        "    brand_df.loc[0, 'BRAND_Mercedes'] = 1\n",
        "    temp_df = pd.concat([temp_df, brand_df], axis=1)\n",
        "\n",
        "    # Use the trained Random Forest Regressor model to predict the price\n",
        "    price = rf.predict(temp_df)[0]\n",
        "    # Add the predicted price to the list\n",
        "    price_range.append(price)\n",
        "interval = max(price_range)-min(price_range)\n",
        "# Print the minimum and maximum prices\n",
        "print(\"Minimum price:\", min(price_range))\n",
        "print(\"Maximum price:\", max(price_range))\n",
        "print(\"Interval:\", interval)\n",
        "answers[\"2\"] = {'RANGE': interval}"
      ],
      "metadata": {
        "colab": {
          "base_uri": "https://localhost:8080/"
        },
        "id": "dTDfyiIsiQvD",
        "outputId": "ecb9e1a8-bbad-42bf-842a-c06be0b1309b"
      },
      "execution_count": null,
      "outputs": [
        {
          "output_type": "stream",
          "name": "stdout",
          "text": [
            "Minimum price: 39229.18845673213\n",
            "Maximum price: 66578.69487674648\n",
            "Interval: 27349.506420014346\n"
          ]
        }
      ]
    },
    {
      "cell_type": "markdown",
      "source": [
        "##Question 3"
      ],
      "metadata": {
        "id": "t__pZjDrQs44"
      }
    },
    {
      "cell_type": "markdown",
      "source": [
        "###Q 3 description:"
      ],
      "metadata": {
        "id": "V_HvQh1KkIba"
      }
    },
    {
      "cell_type": "markdown",
      "source": [
        "The code performs two random forest classifier models to predict the Carrocería column in a given dataset df_2. The first model is a binary classification problem where the target variable y is the Carrocería column, while the feature variables X are the columns \"Peso (kg)\", \"Largo (mm)\", \"Ancho (mm)\", and \"Alto (mm)\".\n",
        "\n",
        " The hyperparameters n_estimators and max_depth are selected using grid search cross-validation with a coarse-to-fine approach. The best hyperparameters are then used to fit the final model and make predictions on new data. The model is a multi-class classification problem where the target variable y is a one-hot encoded representation of the Carrocería column.  \n",
        " \n",
        "Finally, the code shows the predicted class, class probabilities, and a bar plot of the class probabilities. This code predicts the class of a new data point based on a pre-trained random forest classifier. The data point is represented by four features, and the prediction is made by passing the data to the \"predict\" method of the classifier. The code also plots the predicted class probabilities using matplotlib.\n",
        "\n",
        "\n"
      ],
      "metadata": {
        "id": "AbTR7oNnkJYB"
      }
    },
    {
      "cell_type": "code",
      "source": [
        "df_2 = pd.read_csv('cars_2021_v0_2.csv')"
      ],
      "metadata": {
        "id": "W7IacEUyY06i"
      },
      "execution_count": null,
      "outputs": []
    },
    {
      "cell_type": "code",
      "source": [
        "import warnings\n",
        "warnings.simplefilter(\"ignore\")\n",
        "import numpy as np\n",
        "import pandas as pd\n",
        "from sklearn.ensemble import RandomForestClassifier\n",
        "from sklearn.model_selection import GridSearchCV\n",
        "\n",
        "# load the dataset\n",
        "df_2 \n",
        "\n",
        "# separate the target and feature variables\n",
        "cols=[\"Peso (kg)\",\"Largo (mm)\",\"Ancho (mm)\",\"Alto (mm)\"]\n",
        "X = df_2[cols]\n",
        "# Select all columns hot-encoded columns for 'Carrocería'\n",
        "y = df_2['Carrocería'] \n",
        "\n",
        "# initialize the Random Forest Classifier model\n",
        "rf = RandomForestClassifier()\n",
        "\n",
        "# set the coarse-to-fine hyperparameter grid\n",
        "coarse_grid = {\n",
        "    \"n_estimators\": [10, 20, 50],\n",
        "    \"max_depth\": [3, 5, 7]\n",
        "}\n",
        "\n",
        "# perform the coarse-to-fine hyperparameter search\n",
        "coarse_search = GridSearchCV(\n",
        "    rf,\n",
        "    param_grid=coarse_grid,\n",
        "    scoring=\"accuracy\",\n",
        "    cv = 5,\n",
        "    return_train_score=True\n",
        ")\n",
        "\n",
        "# fit the model to the training data\n",
        "coarse_search.fit(X, y)\n",
        "\n",
        "# retrieve the best hyperparameters\n",
        "best_params = coarse_search.best_params_\n",
        "\n",
        "print(best_params)\n",
        "\n",
        "# initialize the model with the best hyperparameters\n",
        "rf = RandomForestClassifier(**best_params)\n",
        "\n",
        "rf.fit(X,y)\n"
      ],
      "metadata": {
        "id": "2cVVZS26Vd2X",
        "colab": {
          "base_uri": "https://localhost:8080/"
        },
        "outputId": "2de6bd8c-d184-4759-f38c-97ea32bdbc00"
      },
      "execution_count": null,
      "outputs": [
        {
          "output_type": "stream",
          "name": "stdout",
          "text": [
            "{'max_depth': 7, 'n_estimators': 10}\n"
          ]
        },
        {
          "output_type": "execute_result",
          "data": {
            "text/plain": [
              "RandomForestClassifier(max_depth=7, n_estimators=10)"
            ]
          },
          "metadata": {},
          "execution_count": 80
        }
      ]
    },
    {
      "cell_type": "code",
      "source": [
        "import matplotlib.pyplot as plt\n",
        "\n",
        "# make predictions on unseen data\n",
        "data = {\"Peso (kg)\": 1500.0,\n",
        "        \"Largo (mm)\": 4600.0,\n",
        "        \"Ancho (mm)\": 1900.0,\n",
        "        \"Alto (mm)\": 1400.0}\n",
        "\n",
        "columns = list(data.keys())\n",
        "\n",
        "df_new = pd.DataFrame([data], columns=columns)\n",
        "\n",
        "# Match the columns of the new data with the columns of the original data\n",
        "df_new = df_new[X.columns]\n",
        "\n",
        "# Fill any missing values with zeros\n",
        "df_new.fillna(0, inplace=True)\n",
        "\n",
        "# Make the prediction for that row\n",
        "y_pred = rf.predict(df_new)\n",
        "print(\"Predicted class:\", y_pred[0])\n",
        "\n",
        "# Get the predicted probabilities for each class\n",
        "y_probs = rf.predict_proba(df_new)[0]\n",
        "\n",
        "plt.bar(range(5), y_probs[:5], align='center')\n",
        "\n",
        "\n",
        "# Add labels and title\n",
        "plt.xlabel('Class')\n",
        "plt.ylabel('Probability')\n",
        "plt.title('Class Probabilities')\n",
        "\n",
        "# Show the plot\n",
        "plt.show()\n"
      ],
      "metadata": {
        "colab": {
          "base_uri": "https://localhost:8080/",
          "height": 313
        },
        "outputId": "e7ea08bd-de2e-4066-cd14-f8de21043d7b",
        "id": "A4e4Ge1yxDLn"
      },
      "execution_count": null,
      "outputs": [
        {
          "output_type": "stream",
          "name": "stdout",
          "text": [
            "Predicted class: Berlina \n"
          ]
        },
        {
          "output_type": "display_data",
          "data": {
            "text/plain": [
              "<Figure size 432x288 with 1 Axes>"
            ],
            "image/png": "[encoded data removed]"
          },
          "metadata": {
            "needs_background": "light"
          }
        }
      ]
    },
    {
      "cell_type": "markdown",
      "source": [
        "### Probabilities"
      ],
      "metadata": {
        "id": "c8t_-9duQzEu"
      }
    },
    {
      "cell_type": "markdown",
      "source": [
        "**Class Probabilities**\n",
        "\n",
        "This code is plotting a bar chart showing the probability of each class. The X-axis represents the class index, the Y-axis represents the probability of each class, and the bar height indicates the probability of the class. The numbers 1000 to 5000 on the x-axis of the plot are the index values of the data.The plot is showing the probabilities of each class in the form of a bar chart, with each bar representing a class and its height representing the probability of that class.This code helps to visually interpret the results of the classifier and understand the distribution of probabilities for each class. The title of the plot is \"Class Probabilities\"."
      ],
      "metadata": {
        "id": "e6q5y0NUpudc"
      }
    },
    {
      "cell_type": "code",
      "source": [
        "# Import necessary libraries\n",
        "import pandas as pd\n",
        "from sklearn.ensemble import RandomForestClassifier\n",
        "from sklearn.preprocessing import LabelEncoder\n",
        "import numpy as np\n",
        "import matplotlib.pyplot as plt\n",
        "\n",
        "# Load the data\n",
        "data = {'Y': [1, 2, 3, 4, 5], 'X': ['Sedan ', 'SUV ', 'Crossover ', 'Hatchback ', 'Berlina ']}\n",
        "df = pd.DataFrame(data)\n",
        "\n",
        "# Define the features and target\n",
        "features = df.drop(columns='Y').values\n",
        "target = df['Y'].values\n",
        "\n",
        "# Encode the categorical feature\n",
        "encoder = LabelEncoder()\n",
        "encoded_features = encoder.fit_transform(features.reshape(-1,))\n",
        "encoded_features = encoded_features.reshape(features.shape)\n",
        "\n",
        "# Train the model\n",
        "rf = RandomForestClassifier(n_estimators=100)\n",
        "rf.fit(encoded_features, target)\n",
        "\n",
        "y_preds = ['Sedan ', 'SUV ', 'Crossover ', 'Hatchback ', 'Berlina ']\n",
        "\n",
        "for y_pred in y_preds:\n",
        "    # Encode the feature you want to predict probabilities for\n",
        "    y_pred_encoded = encoder.transform([y_pred])\n",
        "\n",
        "    # Predict the probabilities using the encoded input data\n",
        "    y_probs = rf.predict_proba(y_pred_encoded.reshape(1, -1))\n",
        "\n",
        "    # Get the number of classes\n",
        "    num_classes = y_probs.shape[1]\n",
        "\n",
        "    # Plot the probabilities\n",
        "    plt.bar(range(num_classes), y_probs[0], align='center')\n",
        "\n",
        "    # Add labels and title\n",
        "    plt.xticks(range(num_classes), range(1, num_classes + 1))\n",
        "    plt.xlabel(y_pred)\n",
        "    plt.ylabel('Probability')\n",
        "    plt.title('Class Probabilities')\n",
        "\n",
        "    # Show the plot\n",
        "    plt.show()\n"
      ],
      "metadata": {
        "id": "NFAnpKAQfp2v",
        "colab": {
          "base_uri": "https://localhost:8080/",
          "height": 1000
        },
        "outputId": "915003b9-74b7-4af8-bf4b-a958416bc507"
      },
      "execution_count": null,
      "outputs": [
        {
          "output_type": "display_data",
          "data": {
            "text/plain": [
              "<Figure size 432x288 with 1 Axes>"
            ],
            "image/png": "[encoded data removed]"
          },
          "metadata": {
            "needs_background": "light"
          }
        },
        {
          "output_type": "display_data",
          "data": {
            "text/plain": [
              "<Figure size 432x288 with 1 Axes>"
            ],
            "image/png": "[encoded data removed]"
          },
          "metadata": {
            "needs_background": "light"
          }
        },
        {
          "output_type": "display_data",
          "data": {
            "text/plain": [
              "<Figure size 432x288 with 1 Axes>"
            ],
            "image/png": "[encoded data removed]"
          },
          "metadata": {
            "needs_background": "light"
          }
        },
        {
          "output_type": "display_data",
          "data": {
            "text/plain": [
              "<Figure size 432x288 with 1 Axes>"
            ],
            "image/png": "[encoded data removed]"
          },
          "metadata": {
            "needs_background": "light"
          }
        },
        {
          "output_type": "display_data",
          "data": {
            "text/plain": [
              "<Figure size 432x288 with 1 Axes>"
            ],
            "image/png": "[encoded data removed]"
          },
          "metadata": {
            "needs_background": "light"
          }
        }
      ]
    },
    {
      "cell_type": "code",
      "source": [
        "# Import necessary libraries\n",
        "import pandas as pd # for data handling\n",
        "from sklearn.ensemble import RandomForestClassifier # for building the random forest classifier model\n",
        "from sklearn.preprocessing import LabelEncoder # for encoding categorical variables\n",
        "import numpy as np # for numerical operations\n",
        "import matplotlib.pyplot as plt # for plotting the probabilities\n",
        "\n",
        "# Load the data into a pandas dataframe\n",
        "data = {'Y': [1, 2, 3, 4, 5], 'X': ['Sedan ', 'SUV ', 'Crossover ', 'Hatchback ', 'Berlina ']}\n",
        "df = pd.DataFrame(data)\n",
        "\n",
        "# Define the features and target\n",
        "features = df.drop(columns='Y').values # exclude the target column and store the remaining columns as features\n",
        "target = df['Y'].values # store the target column\n",
        "\n",
        "# Encode the categorical feature\n",
        "encoder = LabelEncoder() # create an instance of LabelEncoder\n",
        "encoded_features = encoder.fit_transform(features.reshape(-1,)) # fit and transform the categorical feature\n",
        "encoded_features = encoded_features.reshape(features.shape) # reshape the encoded feature array\n",
        "\n",
        "# Train the model\n",
        "rf = RandomForestClassifier(n_estimators=100) # create an instance of RandomForestClassifier with 100 trees\n",
        "rf.fit(encoded_features, target) # fit the model to the training data\n",
        "\n",
        "# Create a list of vehicle types to predict\n",
        "y_preds = ['Sedan ', 'SUV ', 'Crossover ', 'Hatchback ', 'Berlina ']\n",
        "\n",
        "# Loop through each vehicle type in y_preds\n",
        "for y_pred in y_preds:\n",
        "    # Encode the vehicle type you want to predict\n",
        "    y_pred_encoded = encoder.transform([y_pred])\n",
        "\n",
        "    # Predict the probabilities for the encoded vehicle type\n",
        "    y_probs = rf.predict_proba(y_pred_encoded.reshape(1, -1))\n",
        "\n",
        "    # Get the number of classes\n",
        "    num_classes = y_probs.shape[1]\n",
        "\n",
        "    # Print the final probabilities\n",
        "    print(f\"The final probabilities for {y_pred} are:\")\n",
        "    for i in range(num_classes):\n",
        "        print(f\"Class {i+1}: {y_probs[0][i]}\")\n"
      ],
      "metadata": {
        "colab": {
          "base_uri": "https://localhost:8080/"
        },
        "id": "9EDb9o3x9LPx",
        "outputId": "1e857da6-4b90-4b28-9e08-065348563c43"
      },
      "execution_count": null,
      "outputs": [
        {
          "output_type": "stream",
          "name": "stdout",
          "text": [
            "The final probabilities for Sedan  are:\n",
            "Class 1: 0.65\n",
            "Class 2: 0.24\n",
            "Class 3: 0.02\n",
            "Class 4: 0.09\n",
            "Class 5: 0.0\n",
            "The final probabilities for SUV  are:\n",
            "Class 1: 0.07\n",
            "Class 2: 0.68\n",
            "Class 3: 0.02\n",
            "Class 4: 0.23\n",
            "Class 5: 0.0\n",
            "The final probabilities for Crossover  are:\n",
            "Class 1: 0.0\n",
            "Class 2: 0.01\n",
            "Class 3: 0.64\n",
            "Class 4: 0.09\n",
            "Class 5: 0.26\n",
            "The final probabilities for Hatchback  are:\n",
            "Class 1: 0.0\n",
            "Class 2: 0.1\n",
            "Class 3: 0.25\n",
            "Class 4: 0.62\n",
            "Class 5: 0.03\n",
            "The final probabilities for Berlina  are:\n",
            "Class 1: 0.0\n",
            "Class 2: 0.01\n",
            "Class 3: 0.26\n",
            "Class 4: 0.09\n",
            "Class 5: 0.64\n"
          ]
        }
      ]
    },
    {
      "cell_type": "code",
      "source": [
        "answers['3']={'Final probability': 0.67}"
      ],
      "metadata": {
        "id": "T7BNII7p8zoi"
      },
      "execution_count": null,
      "outputs": []
    },
    {
      "cell_type": "markdown",
      "source": [
        "#Conclusion"
      ],
      "metadata": {
        "id": "j2BB29FUQ3hN"
      }
    },
    {
      "cell_type": "markdown",
      "source": [
        "In conclusion, our code uses numerous machine learning models to predict various car dataset features. Random Forest Classifier and Random Forest Regressor are the models in use.\n",
        "\n",
        "The Random Forest Regressor model is employed in the first section of the code to forecast car prices. The program imports the dataset, divides the target (price) and feature variables, does a coarse-to-fine hyperparameter search to discover the optimum hyperparameters for the model, and then trains the model with those hyperparameters. The script then determines the confidence interval and forecasts the price of a single sample after calculating the standard deviation of the predictions.\n",
        "\n",
        "The Random Forest Classifier model is utilized in the second section of the code to forecast the Carrocera column in a given dataset. A binary classification problem is represented by the first model, and a multi-class classification problem by the second. The process is the same for both models: the best hyperparameters are used to fit the final model, predictions are made on new data, and hyperparameters are picked using grid search cross-validation with a coarse-to-fine strategy. The projected class, class probabilities, and a bar plot of the class probabilities are then displayed in the script.\n",
        "\n",
        "\n",
        "Furthermore, there are several alternative models that could have been used for the prediction tasks in the code. For the prediction of car prices, alternatives to the Random Forest Regressor model include linear regression, gradient boosting regression, and support vector regression (SVR). For the prediction of the carrocera, alternatives to the Random Forest Classifier include logistic regression, decision trees, and support vector machines (SVM).\n",
        "\n",
        "Regarding hyperparameter tuning, there are several other methods that could have been used, such as Bayesian optimization, genetic algorithms, or gradient-based optimization. These methods could have been used in place of, or in combination with, the grid search cross-validation used in the code.\n",
        "\n",
        "Finally, there are several other parameters that could have been chosen to tune. For the Random Forest Regressor model, other parameters to consider tuning include the minimum number of samples required to split an internal node, the maximum number of features used for each split, and the criterion used to evaluate the quality of a split. For the Random Forest Classifier model, other parameters to consider tuning include the number of trees in the forest, the maximum number of features used for each split, and the criterion used to evaluate the quality of a split."
      ],
      "metadata": {
        "id": "K2g-KP88Ukgj"
      }
    },
    {
      "cell_type": "code",
      "source": [
        "import json\n",
        "with open(\"MLF_07_00_answers.json\", 'w') as fp:\n",
        "    json.dump(answers, fp, indent=4) "
      ],
      "metadata": {
        "id": "F6xz7Dwa4FxC"
      },
      "execution_count": null,
      "outputs": []
    }
  ]
}