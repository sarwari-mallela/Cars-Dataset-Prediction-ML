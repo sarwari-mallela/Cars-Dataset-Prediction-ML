{
  "cells": [
    {
      "cell_type": "markdown",
      "metadata": {
        "id": "view-in-github",
        "colab_type": "text"
      },
      "source": [
        "<a href=\"https://colab.research.google.com/github/sarwari-mallela/Cars-Dataset-Prediction-ML/blob/main/Data_Prep_Final_Version.ipynb\" target=\"_parent\"><img src=\"https://colab.research.google.com/assets/colab-badge.svg\" alt=\"Open In Colab\"/></a>"
      ]
    },
    {
      "cell_type": "markdown",
      "source": [
        "# Table of Contents\n",
        "\n",
        "\n",
        ">[ASSIGNMENT 04_02 EDA and Data Preparation](#scrollTo=625fc59b)\n",
        "\n",
        ">>>[Importing Libraries](#scrollTo=bkrxlU1SmUEQ)\n",
        "\n",
        ">>>[Importing and translating dataset](#scrollTo=07abff34)\n",
        "\n",
        ">>>[Exploring data types](#scrollTo=28bb117b)\n",
        "\n",
        ">>>[Dealing with missing values](#scrollTo=9203cf7c)\n",
        "\n",
        ">>>[Data type conversion](#scrollTo=6b15711a)\n",
        "\n",
        ">>>[Dealing with Outliers](#scrollTo=981141e0)\n",
        "\n",
        ">>>[Correlation Matrix](#scrollTo=2e295104)\n",
        "\n",
        ">>>[Data scaling](#scrollTo=944f8825)\n",
        "\n",
        ">>>[Questions:](#scrollTo=d67ef963)\n",
        "\n",
        ">>>[Converting categorical variables into numerical variables](#scrollTo=4c28cd03)\n",
        "\n",
        ">>>[Exploring categorical varaibles](#scrollTo=4QR5q-jSHkY6)\n",
        "\n",
        ">>>>[Exploring fuel column](#scrollTo=oHLqyJdOq6bO)\n",
        "\n",
        ">>>>[Exploring brand column](#scrollTo=aCU0qcre0GAF)\n",
        "\n",
        ">>>>[Exploring drive column](#scrollTo=ChS1fnXkxfUQ)\n",
        "\n",
        ">>>>[Conversion of categorical variables into dummies](#scrollTo=4a10b7a9)\n",
        "\n",
        ">>>[Recieving the final dataframe and saving as csv](#scrollTo=dkMielMvzIoO)\n",
        "\n",
        ">[Summary and Conclusion](#scrollTo=ILjvJYDAuoyI)\n",
        "\n",
        ">[ML Tasks Candidates Based on Our EDA](#scrollTo=3uwpAAePvBV_)\n",
        "\n"
      ],
      "metadata": {
        "colab_type": "toc",
        "id": "nQasTOTAGU-Y"
      },
      "id": "nQasTOTAGU-Y"
    },
    {
      "cell_type": "markdown",
      "id": "625fc59b",
      "metadata": {
        "id": "625fc59b"
      },
      "source": [
        "# ASSIGNMENT 04_02 EDA and Data Preparation"
      ]
    },
    {
      "cell_type": "code",
      "source": [],
      "metadata": {
        "id": "_wPBnrSxCbPZ"
      },
      "id": "_wPBnrSxCbPZ",
      "execution_count": null,
      "outputs": []
    },
    {
      "cell_type": "markdown",
      "id": "bkrxlU1SmUEQ",
      "metadata": {
        "id": "bkrxlU1SmUEQ"
      },
      "source": [
        "### Importing Libraries"
      ]
    },
    {
      "cell_type": "code",
      "execution_count": null,
      "id": "797c91c4",
      "metadata": {
        "id": "797c91c4"
      },
      "outputs": [],
      "source": [
        "import pandas as pd\n",
        "import numpy as np\n",
        "import io\n",
        "import matplotlib.pyplot as plt\n",
        "import seaborn as sns\n",
        "from scipy import stats"
      ]
    },
    {
      "cell_type": "markdown",
      "id": "07abff34",
      "metadata": {
        "id": "07abff34"
      },
      "source": [
        "### Importing and translating dataset"
      ]
    },
    {
      "cell_type": "code",
      "execution_count": null,
      "id": "57a76558",
      "metadata": {
        "colab": {
          "base_uri": "https://localhost:8080/"
        },
        "id": "57a76558",
        "outputId": "1f919d83-2a58-4065-9626-7ce92df0285a"
      },
      "outputs": [
        {
          "output_type": "stream",
          "name": "stdout",
          "text": [
            "(5379, 27)\n",
            "Index(['ID#', 'BRAND', 'MODEL', 'VERSION1', 'POTENCIA1 (cv)', 'PUERTAS',\n",
            "       'COMBUSTIBLE', 'CO2', 'PRECIO', 'Tracción', 'Transmisión',\n",
            "       'Emisiones CO2 (gr/km)', 'Autonomía (km)', 'Consumo (l/100km)',\n",
            "       'Garantía (meses)', 'Motor (cc)', 'Capacidad depósito (lts)',\n",
            "       'N° marchas', 'Velocidad Máxima (km/h)', 'Aceleración (0-100 km) (s)',\n",
            "       'Revoluciones Potencia Máxima (rpm)', 'Par motor (Nm)', 'Carrocería',\n",
            "       'Peso (kg)', 'Largo (mm)', 'Ancho (mm)', 'Alto (mm)'],\n",
            "      dtype='object')\n"
          ]
        }
      ],
      "source": [
        "df = pd.read_csv('cars_2021_raw.csv')\n",
        "# printing the dimensions of our data\n",
        "print(df.shape)\n",
        "# printing column names\n",
        "print(df.columns)"
      ]
    },
    {
      "cell_type": "code",
      "execution_count": null,
      "id": "2c63be2e",
      "metadata": {
        "id": "2c63be2e"
      },
      "outputs": [],
      "source": [
        "# translating columns into english for ease\n",
        "df = df.rename(columns={\n",
        "    'ID#':'id',\n",
        "    'BRAND':'brand',\n",
        "      'MODEL':'model', 'VERSION1':'version_1', 'POTENCIA1 (cv)':'power_1', 'PUERTAS':'doors',\n",
        "       'COMBUSTIBLE':'fuel', 'CO2':'co2', 'PRECIO':'price', 'Tracción':'drive', 'Transmisión':'transmission',\n",
        "       'Emisiones CO2 (gr/km)':'co2_emissions', 'Autonomía (km)':'autonomy', 'Consumo (l/100km)':'consumption',\n",
        "       'Garantía (meses)':'warranty_months', 'Motor (cc)':'motor_cc', 'Capacidad depósito (lts)':'tank_capacity_litres',\n",
        "       'N° marchas':'numberof_gears', 'Velocidad Máxima (km/h)':'max_speed_kmph', 'Aceleración (0-100 km) (s)':'acceleration',\n",
        "       'Revoluciones Potencia Máxima (rpm)':'max_power_revolutions', 'Par motor (Nm)':'torque', 'Carrocería':'body_work',\n",
        "       'Peso (kg)':'weight', 'Largo (mm)':'length', 'Ancho (mm)':'width', 'Alto (mm)':'height'\n",
        "})"
      ]
    },
    {
      "cell_type": "markdown",
      "id": "28bb117b",
      "metadata": {
        "id": "28bb117b"
      },
      "source": [
        "### Exploring data types"
      ]
    },
    {
      "cell_type": "code",
      "execution_count": null,
      "id": "10f8cfb5",
      "metadata": {
        "colab": {
          "base_uri": "https://localhost:8080/"
        },
        "id": "10f8cfb5",
        "outputId": "e5610728-5339-42ea-e3e7-011cbc6b1248"
      },
      "outputs": [
        {
          "output_type": "execute_result",
          "data": {
            "text/plain": [
              "id                         int64\n",
              "brand                     object\n",
              "model                     object\n",
              "version_1                 object\n",
              "power_1                    int64\n",
              "doors                      int64\n",
              "fuel                      object\n",
              "co2                       object\n",
              "price                     object\n",
              "drive                     object\n",
              "transmission              object\n",
              "co2_emissions            float64\n",
              "autonomy                 float64\n",
              "consumption              float64\n",
              "warranty_months          float64\n",
              "motor_cc                 float64\n",
              "tank_capacity_litres     float64\n",
              "numberof_gears           float64\n",
              "max_speed_kmph           float64\n",
              "acceleration             float64\n",
              "max_power_revolutions    float64\n",
              "torque                   float64\n",
              "body_work                 object\n",
              "weight                   float64\n",
              "length                   float64\n",
              "width                    float64\n",
              "height                   float64\n",
              "dtype: object"
            ]
          },
          "metadata": {},
          "execution_count": 48
        }
      ],
      "source": [
        "df.dtypes"
      ]
    },
    {
      "cell_type": "markdown",
      "id": "9203cf7c",
      "metadata": {
        "id": "9203cf7c"
      },
      "source": [
        "### Dealing with missing values"
      ]
    },
    {
      "cell_type": "code",
      "execution_count": null,
      "id": "36a79bd3",
      "metadata": {
        "colab": {
          "base_uri": "https://localhost:8080/"
        },
        "id": "36a79bd3",
        "outputId": "b6a191c4-4ade-4e06-e8dc-eef1cf6974f8"
      },
      "outputs": [
        {
          "output_type": "execute_result",
          "data": {
            "text/plain": [
              "id                        0\n",
              "brand                     0\n",
              "model                     0\n",
              "version_1                 0\n",
              "power_1                   0\n",
              "doors                     0\n",
              "fuel                      0\n",
              "co2                       0\n",
              "price                     0\n",
              "drive                    39\n",
              "transmission             39\n",
              "co2_emissions            39\n",
              "autonomy                 39\n",
              "consumption              39\n",
              "warranty_months          39\n",
              "motor_cc                 39\n",
              "tank_capacity_litres     39\n",
              "numberof_gears           39\n",
              "max_speed_kmph           39\n",
              "acceleration             39\n",
              "max_power_revolutions    39\n",
              "torque                   39\n",
              "body_work                39\n",
              "weight                   39\n",
              "length                   39\n",
              "width                    39\n",
              "height                   39\n",
              "dtype: int64"
            ]
          },
          "metadata": {},
          "execution_count": 49
        }
      ],
      "source": [
        "# Checking how many missing values we have in each column\n",
        "df.isna().sum()"
      ]
    },
    {
      "cell_type": "markdown",
      "id": "0385755c",
      "metadata": {
        "id": "0385755c"
      },
      "source": [
        "#### For the numerical variables, we did mean imputation, while for the categorical variables we did mode imputation.\n",
        "Preserving the  imputation done on both categorical and numerical variables with corresponding Binary matrix.\n",
        "\n",
        "Consumption and autonomy both depend on fuel type. That's why, we decided to do the mean imputation, taking only the rows with the same fuel type."
      ]
    },
    {
      "cell_type": "code",
      "source": [
        "# Create a binary matrix indicating the presence of missing values\n",
        "df['consumption_missing'] = df['consumption'].isna()\n",
        "df['autonomy_missing'] = df['autonomy'].isna()\n",
        "\n",
        "# Group by fuel type\n",
        "grouped = df.groupby('fuel')\n",
        "\n",
        "# Replace missing values with the mean of each group\n",
        "df['consumption'] = grouped['consumption'].apply(lambda x: x.fillna(x.mean()))\n",
        "df['autonomy'] = grouped['autonomy'].apply(lambda x: x.fillna(x.mean()))"
      ],
      "metadata": {
        "id": "4C4DBTJw9NWv"
      },
      "id": "4C4DBTJw9NWv",
      "execution_count": null,
      "outputs": []
    },
    {
      "cell_type": "code",
      "source": [
        "df[df['consumption'].isnull()]"
      ],
      "metadata": {
        "colab": {
          "base_uri": "https://localhost:8080/",
          "height": 275
        },
        "id": "XTChd1ft-_3E",
        "outputId": "27071698-f9b2-468d-90d8-88b613d65eda"
      },
      "id": "XTChd1ft-_3E",
      "execution_count": null,
      "outputs": [
        {
          "output_type": "execute_result",
          "data": {
            "text/plain": [
              "        id     brand               model                 version_1  power_1  \\\n",
              "2640  2641  Mercedes  Mercedes - Clase A       A 250e Sedán 8G-DCT      218   \n",
              "2688  2689  Mercedes  Mercedes - Clase C  C Estate 300de 9G-Tronic      306   \n",
              "\n",
              "      doors     fuel    co2     price drive  ... acceleration  \\\n",
              "2640      4  Híbrido  verde  33,229 €   NaN  ...          NaN   \n",
              "2688      5  Híbrido  verde  48,643 €   NaN  ...          NaN   \n",
              "\n",
              "      max_power_revolutions  torque  body_work  weight  length  width  height  \\\n",
              "2640                    NaN     NaN        NaN     NaN     NaN    NaN     NaN   \n",
              "2688                    NaN     NaN        NaN     NaN     NaN    NaN     NaN   \n",
              "\n",
              "      consumption_missing  autonomy_missing  \n",
              "2640                 True              True  \n",
              "2688                 True              True  \n",
              "\n",
              "[2 rows x 29 columns]"
            ],
            "text/html": [
              "\n",
              "  <div id=\"df-9bce8eb2-a620-4dbe-8ee0-15c710459019\">\n",
              "    <div class=\"colab-df-container\">\n",
              "      <div>\n",
              "<style scoped>\n",
              "    .dataframe tbody tr th:only-of-type {\n",
              "        vertical-align: middle;\n",
              "    }\n",
              "\n",
              "    .dataframe tbody tr th {\n",
              "        vertical-align: top;\n",
              "    }\n",
              "\n",
              "    .dataframe thead th {\n",
              "        text-align: right;\n",
              "    }\n",
              "</style>\n",
              "<table border=\"1\" class=\"dataframe\">\n",
              "  <thead>\n",
              "    <tr style=\"text-align: right;\">\n",
              "      <th></th>\n",
              "      <th>id</th>\n",
              "      <th>brand</th>\n",
              "      <th>model</th>\n",
              "      <th>version_1</th>\n",
              "      <th>power_1</th>\n",
              "      <th>doors</th>\n",
              "      <th>fuel</th>\n",
              "      <th>co2</th>\n",
              "      <th>price</th>\n",
              "      <th>drive</th>\n",
              "      <th>...</th>\n",
              "      <th>acceleration</th>\n",
              "      <th>max_power_revolutions</th>\n",
              "      <th>torque</th>\n",
              "      <th>body_work</th>\n",
              "      <th>weight</th>\n",
              "      <th>length</th>\n",
              "      <th>width</th>\n",
              "      <th>height</th>\n",
              "      <th>consumption_missing</th>\n",
              "      <th>autonomy_missing</th>\n",
              "    </tr>\n",
              "  </thead>\n",
              "  <tbody>\n",
              "    <tr>\n",
              "      <th>2640</th>\n",
              "      <td>2641</td>\n",
              "      <td>Mercedes</td>\n",
              "      <td>Mercedes - Clase A</td>\n",
              "      <td>A 250e Sedán 8G-DCT</td>\n",
              "      <td>218</td>\n",
              "      <td>4</td>\n",
              "      <td>Híbrido</td>\n",
              "      <td>verde</td>\n",
              "      <td>33,229 €</td>\n",
              "      <td>NaN</td>\n",
              "      <td>...</td>\n",
              "      <td>NaN</td>\n",
              "      <td>NaN</td>\n",
              "      <td>NaN</td>\n",
              "      <td>NaN</td>\n",
              "      <td>NaN</td>\n",
              "      <td>NaN</td>\n",
              "      <td>NaN</td>\n",
              "      <td>NaN</td>\n",
              "      <td>True</td>\n",
              "      <td>True</td>\n",
              "    </tr>\n",
              "    <tr>\n",
              "      <th>2688</th>\n",
              "      <td>2689</td>\n",
              "      <td>Mercedes</td>\n",
              "      <td>Mercedes - Clase C</td>\n",
              "      <td>C Estate 300de 9G-Tronic</td>\n",
              "      <td>306</td>\n",
              "      <td>5</td>\n",
              "      <td>Híbrido</td>\n",
              "      <td>verde</td>\n",
              "      <td>48,643 €</td>\n",
              "      <td>NaN</td>\n",
              "      <td>...</td>\n",
              "      <td>NaN</td>\n",
              "      <td>NaN</td>\n",
              "      <td>NaN</td>\n",
              "      <td>NaN</td>\n",
              "      <td>NaN</td>\n",
              "      <td>NaN</td>\n",
              "      <td>NaN</td>\n",
              "      <td>NaN</td>\n",
              "      <td>True</td>\n",
              "      <td>True</td>\n",
              "    </tr>\n",
              "  </tbody>\n",
              "</table>\n",
              "<p>2 rows × 29 columns</p>\n",
              "</div>\n",
              "      <button class=\"colab-df-convert\" onclick=\"convertToInteractive('df-9bce8eb2-a620-4dbe-8ee0-15c710459019')\"\n",
              "              title=\"Convert this dataframe to an interactive table.\"\n",
              "              style=\"display:none;\">\n",
              "        \n",
              "  <svg xmlns=\"http://www.w3.org/2000/svg\" height=\"24px\"viewBox=\"0 0 24 24\"\n",
              "       width=\"24px\">\n",
              "    <path d=\"M0 0h24v24H0V0z\" fill=\"none\"/>\n",
              "    <path d=\"M18.56 5.44l.94 2.06.94-2.06 2.06-.94-2.06-.94-.94-2.06-.94 2.06-2.06.94zm-11 1L8.5 8.5l.94-2.06 2.06-.94-2.06-.94L8.5 2.5l-.94 2.06-2.06.94zm10 10l.94 2.06.94-2.06 2.06-.94-2.06-.94-.94-2.06-.94 2.06-2.06.94z\"/><path d=\"M17.41 7.96l-1.37-1.37c-.4-.4-.92-.59-1.43-.59-.52 0-1.04.2-1.43.59L10.3 9.45l-7.72 7.72c-.78.78-.78 2.05 0 2.83L4 21.41c.39.39.9.59 1.41.59.51 0 1.02-.2 1.41-.59l7.78-7.78 2.81-2.81c.8-.78.8-2.07 0-2.86zM5.41 20L4 18.59l7.72-7.72 1.47 1.35L5.41 20z\"/>\n",
              "  </svg>\n",
              "      </button>\n",
              "      \n",
              "  <style>\n",
              "    .colab-df-container {\n",
              "      display:flex;\n",
              "      flex-wrap:wrap;\n",
              "      gap: 12px;\n",
              "    }\n",
              "\n",
              "    .colab-df-convert {\n",
              "      background-color: #E8F0FE;\n",
              "      border: none;\n",
              "      border-radius: 50%;\n",
              "      cursor: pointer;\n",
              "      display: none;\n",
              "      fill: #1967D2;\n",
              "      height: 32px;\n",
              "      padding: 0 0 0 0;\n",
              "      width: 32px;\n",
              "    }\n",
              "\n",
              "    .colab-df-convert:hover {\n",
              "      background-color: #E2EBFA;\n",
              "      box-shadow: 0px 1px 2px rgba(60, 64, 67, 0.3), 0px 1px 3px 1px rgba(60, 64, 67, 0.15);\n",
              "      fill: #174EA6;\n",
              "    }\n",
              "\n",
              "    [theme=dark] .colab-df-convert {\n",
              "      background-color: #3B4455;\n",
              "      fill: #D2E3FC;\n",
              "    }\n",
              "\n",
              "    [theme=dark] .colab-df-convert:hover {\n",
              "      background-color: #434B5C;\n",
              "      box-shadow: 0px 1px 3px 1px rgba(0, 0, 0, 0.15);\n",
              "      filter: drop-shadow(0px 1px 2px rgba(0, 0, 0, 0.3));\n",
              "      fill: #FFFFFF;\n",
              "    }\n",
              "  </style>\n",
              "\n",
              "      <script>\n",
              "        const buttonEl =\n",
              "          document.querySelector('#df-9bce8eb2-a620-4dbe-8ee0-15c710459019 button.colab-df-convert');\n",
              "        buttonEl.style.display =\n",
              "          google.colab.kernel.accessAllowed ? 'block' : 'none';\n",
              "\n",
              "        async function convertToInteractive(key) {\n",
              "          const element = document.querySelector('#df-9bce8eb2-a620-4dbe-8ee0-15c710459019');\n",
              "          const dataTable =\n",
              "            await google.colab.kernel.invokeFunction('convertToInteractive',\n",
              "                                                     [key], {});\n",
              "          if (!dataTable) return;\n",
              "\n",
              "          const docLinkHtml = 'Like what you see? Visit the ' +\n",
              "            '<a target=\"_blank\" href=https://colab.research.google.com/notebooks/data_table.ipynb>data table notebook</a>'\n",
              "            + ' to learn more about interactive tables.';\n",
              "          element.innerHTML = '';\n",
              "          dataTable['output_type'] = 'display_data';\n",
              "          await google.colab.output.renderOutput(dataTable, element);\n",
              "          const docLink = document.createElement('div');\n",
              "          docLink.innerHTML = docLinkHtml;\n",
              "          element.appendChild(docLink);\n",
              "        }\n",
              "      </script>\n",
              "    </div>\n",
              "  </div>\n",
              "  "
            ]
          },
          "metadata": {},
          "execution_count": 51
        }
      ]
    },
    {
      "cell_type": "code",
      "source": [
        "df[df[\"fuel\"] == \"Híbrido\"]\n"
      ],
      "metadata": {
        "colab": {
          "base_uri": "https://localhost:8080/",
          "height": 275
        },
        "id": "hZ8lLA2g_9H4",
        "outputId": "34d48c17-0fc0-430b-e749-fb31a71948e5"
      },
      "id": "hZ8lLA2g_9H4",
      "execution_count": null,
      "outputs": [
        {
          "output_type": "execute_result",
          "data": {
            "text/plain": [
              "        id     brand               model                 version_1  power_1  \\\n",
              "2640  2641  Mercedes  Mercedes - Clase A       A 250e Sedán 8G-DCT      218   \n",
              "2688  2689  Mercedes  Mercedes - Clase C  C Estate 300de 9G-Tronic      306   \n",
              "\n",
              "      doors     fuel    co2     price drive  ... acceleration  \\\n",
              "2640      4  Híbrido  verde  33,229 €   NaN  ...          NaN   \n",
              "2688      5  Híbrido  verde  48,643 €   NaN  ...          NaN   \n",
              "\n",
              "      max_power_revolutions  torque  body_work  weight  length  width  height  \\\n",
              "2640                    NaN     NaN        NaN     NaN     NaN    NaN     NaN   \n",
              "2688                    NaN     NaN        NaN     NaN     NaN    NaN     NaN   \n",
              "\n",
              "      consumption_missing  autonomy_missing  \n",
              "2640                 True              True  \n",
              "2688                 True              True  \n",
              "\n",
              "[2 rows x 29 columns]"
            ],
            "text/html": [
              "\n",
              "  <div id=\"df-a8c53c1b-1507-4b21-92c5-2cf6073216b8\">\n",
              "    <div class=\"colab-df-container\">\n",
              "      <div>\n",
              "<style scoped>\n",
              "    .dataframe tbody tr th:only-of-type {\n",
              "        vertical-align: middle;\n",
              "    }\n",
              "\n",
              "    .dataframe tbody tr th {\n",
              "        vertical-align: top;\n",
              "    }\n",
              "\n",
              "    .dataframe thead th {\n",
              "        text-align: right;\n",
              "    }\n",
              "</style>\n",
              "<table border=\"1\" class=\"dataframe\">\n",
              "  <thead>\n",
              "    <tr style=\"text-align: right;\">\n",
              "      <th></th>\n",
              "      <th>id</th>\n",
              "      <th>brand</th>\n",
              "      <th>model</th>\n",
              "      <th>version_1</th>\n",
              "      <th>power_1</th>\n",
              "      <th>doors</th>\n",
              "      <th>fuel</th>\n",
              "      <th>co2</th>\n",
              "      <th>price</th>\n",
              "      <th>drive</th>\n",
              "      <th>...</th>\n",
              "      <th>acceleration</th>\n",
              "      <th>max_power_revolutions</th>\n",
              "      <th>torque</th>\n",
              "      <th>body_work</th>\n",
              "      <th>weight</th>\n",
              "      <th>length</th>\n",
              "      <th>width</th>\n",
              "      <th>height</th>\n",
              "      <th>consumption_missing</th>\n",
              "      <th>autonomy_missing</th>\n",
              "    </tr>\n",
              "  </thead>\n",
              "  <tbody>\n",
              "    <tr>\n",
              "      <th>2640</th>\n",
              "      <td>2641</td>\n",
              "      <td>Mercedes</td>\n",
              "      <td>Mercedes - Clase A</td>\n",
              "      <td>A 250e Sedán 8G-DCT</td>\n",
              "      <td>218</td>\n",
              "      <td>4</td>\n",
              "      <td>Híbrido</td>\n",
              "      <td>verde</td>\n",
              "      <td>33,229 €</td>\n",
              "      <td>NaN</td>\n",
              "      <td>...</td>\n",
              "      <td>NaN</td>\n",
              "      <td>NaN</td>\n",
              "      <td>NaN</td>\n",
              "      <td>NaN</td>\n",
              "      <td>NaN</td>\n",
              "      <td>NaN</td>\n",
              "      <td>NaN</td>\n",
              "      <td>NaN</td>\n",
              "      <td>True</td>\n",
              "      <td>True</td>\n",
              "    </tr>\n",
              "    <tr>\n",
              "      <th>2688</th>\n",
              "      <td>2689</td>\n",
              "      <td>Mercedes</td>\n",
              "      <td>Mercedes - Clase C</td>\n",
              "      <td>C Estate 300de 9G-Tronic</td>\n",
              "      <td>306</td>\n",
              "      <td>5</td>\n",
              "      <td>Híbrido</td>\n",
              "      <td>verde</td>\n",
              "      <td>48,643 €</td>\n",
              "      <td>NaN</td>\n",
              "      <td>...</td>\n",
              "      <td>NaN</td>\n",
              "      <td>NaN</td>\n",
              "      <td>NaN</td>\n",
              "      <td>NaN</td>\n",
              "      <td>NaN</td>\n",
              "      <td>NaN</td>\n",
              "      <td>NaN</td>\n",
              "      <td>NaN</td>\n",
              "      <td>True</td>\n",
              "      <td>True</td>\n",
              "    </tr>\n",
              "  </tbody>\n",
              "</table>\n",
              "<p>2 rows × 29 columns</p>\n",
              "</div>\n",
              "      <button class=\"colab-df-convert\" onclick=\"convertToInteractive('df-a8c53c1b-1507-4b21-92c5-2cf6073216b8')\"\n",
              "              title=\"Convert this dataframe to an interactive table.\"\n",
              "              style=\"display:none;\">\n",
              "        \n",
              "  <svg xmlns=\"http://www.w3.org/2000/svg\" height=\"24px\"viewBox=\"0 0 24 24\"\n",
              "       width=\"24px\">\n",
              "    <path d=\"M0 0h24v24H0V0z\" fill=\"none\"/>\n",
              "    <path d=\"M18.56 5.44l.94 2.06.94-2.06 2.06-.94-2.06-.94-.94-2.06-.94 2.06-2.06.94zm-11 1L8.5 8.5l.94-2.06 2.06-.94-2.06-.94L8.5 2.5l-.94 2.06-2.06.94zm10 10l.94 2.06.94-2.06 2.06-.94-2.06-.94-.94-2.06-.94 2.06-2.06.94z\"/><path d=\"M17.41 7.96l-1.37-1.37c-.4-.4-.92-.59-1.43-.59-.52 0-1.04.2-1.43.59L10.3 9.45l-7.72 7.72c-.78.78-.78 2.05 0 2.83L4 21.41c.39.39.9.59 1.41.59.51 0 1.02-.2 1.41-.59l7.78-7.78 2.81-2.81c.8-.78.8-2.07 0-2.86zM5.41 20L4 18.59l7.72-7.72 1.47 1.35L5.41 20z\"/>\n",
              "  </svg>\n",
              "      </button>\n",
              "      \n",
              "  <style>\n",
              "    .colab-df-container {\n",
              "      display:flex;\n",
              "      flex-wrap:wrap;\n",
              "      gap: 12px;\n",
              "    }\n",
              "\n",
              "    .colab-df-convert {\n",
              "      background-color: #E8F0FE;\n",
              "      border: none;\n",
              "      border-radius: 50%;\n",
              "      cursor: pointer;\n",
              "      display: none;\n",
              "      fill: #1967D2;\n",
              "      height: 32px;\n",
              "      padding: 0 0 0 0;\n",
              "      width: 32px;\n",
              "    }\n",
              "\n",
              "    .colab-df-convert:hover {\n",
              "      background-color: #E2EBFA;\n",
              "      box-shadow: 0px 1px 2px rgba(60, 64, 67, 0.3), 0px 1px 3px 1px rgba(60, 64, 67, 0.15);\n",
              "      fill: #174EA6;\n",
              "    }\n",
              "\n",
              "    [theme=dark] .colab-df-convert {\n",
              "      background-color: #3B4455;\n",
              "      fill: #D2E3FC;\n",
              "    }\n",
              "\n",
              "    [theme=dark] .colab-df-convert:hover {\n",
              "      background-color: #434B5C;\n",
              "      box-shadow: 0px 1px 3px 1px rgba(0, 0, 0, 0.15);\n",
              "      filter: drop-shadow(0px 1px 2px rgba(0, 0, 0, 0.3));\n",
              "      fill: #FFFFFF;\n",
              "    }\n",
              "  </style>\n",
              "\n",
              "      <script>\n",
              "        const buttonEl =\n",
              "          document.querySelector('#df-a8c53c1b-1507-4b21-92c5-2cf6073216b8 button.colab-df-convert');\n",
              "        buttonEl.style.display =\n",
              "          google.colab.kernel.accessAllowed ? 'block' : 'none';\n",
              "\n",
              "        async function convertToInteractive(key) {\n",
              "          const element = document.querySelector('#df-a8c53c1b-1507-4b21-92c5-2cf6073216b8');\n",
              "          const dataTable =\n",
              "            await google.colab.kernel.invokeFunction('convertToInteractive',\n",
              "                                                     [key], {});\n",
              "          if (!dataTable) return;\n",
              "\n",
              "          const docLinkHtml = 'Like what you see? Visit the ' +\n",
              "            '<a target=\"_blank\" href=https://colab.research.google.com/notebooks/data_table.ipynb>data table notebook</a>'\n",
              "            + ' to learn more about interactive tables.';\n",
              "          element.innerHTML = '';\n",
              "          dataTable['output_type'] = 'display_data';\n",
              "          await google.colab.output.renderOutput(dataTable, element);\n",
              "          const docLink = document.createElement('div');\n",
              "          docLink.innerHTML = docLinkHtml;\n",
              "          element.appendChild(docLink);\n",
              "        }\n",
              "      </script>\n",
              "    </div>\n",
              "  </div>\n",
              "  "
            ]
          },
          "metadata": {},
          "execution_count": 52
        }
      ]
    },
    {
      "cell_type": "markdown",
      "source": [
        "We can see that, in consumption and autonomy, we will find 2 values missing in each row even after mean imputation grouped by fuel type. That's because these 2 rows have hybrid fuel,and both the ros have missing values. So, we group by motor_cc and perform mean imputation."
      ],
      "metadata": {
        "id": "bn4oEzTfAO4e"
      },
      "id": "bn4oEzTfAO4e"
    },
    {
      "cell_type": "code",
      "source": [
        "# Create a binary matrix indicating the presence of missing values\n",
        "df['consumption_missing'] = df['consumption'].isna()\n",
        "df['autonomy_missing'] = df['autonomy'].isna()\n",
        "\n",
        "# Group by fuel type\n",
        "grouped = df.groupby('motor_cc')\n",
        "\n",
        "# Replace missing values with the mean of each group\n",
        "df['consumption'] = grouped['consumption'].apply(lambda x: x.fillna(x.mean()))\n",
        "df['autonomy'] = grouped['autonomy'].apply(lambda x: x.fillna(x.mean()))"
      ],
      "metadata": {
        "id": "0uFOU6eyA0K5"
      },
      "id": "0uFOU6eyA0K5",
      "execution_count": null,
      "outputs": []
    },
    {
      "cell_type": "code",
      "execution_count": null,
      "id": "5d784ec5",
      "metadata": {
        "id": "5d784ec5"
      },
      "outputs": [],
      "source": [
        "# Create lists of numerical and categorical columns\n",
        "numerical_cols = [ 'co2_emissions','warranty_months','motor_cc','tank_capacity_litres','numberof_gears','max_speed_kmph','acceleration','max_power_revolutions','torque','weight','length','width','height']\n",
        "categorical_cols = ['drive','transmission','body_work']\n",
        "\n",
        "# Iterate over numerical columns\n",
        "for col in numerical_cols:\n",
        "    # Create binary column\n",
        "    df[col + '_missing'] = df[col].isna()\n",
        "    # Replace missing values with mean\n",
        "    df[col] = df[col].fillna(df[col].mean())\n",
        "\n",
        "# Iterate over categorical columns\n",
        "for col in categorical_cols:\n",
        "    # Create binary column\n",
        "    df[col + '_missing'] = df[col].isna()\n",
        "    # Replace missing values with mode\n",
        "    df[col] = df[col].fillna(df[col].mode()[0])"
      ]
    },
    {
      "cell_type": "code",
      "execution_count": null,
      "id": "18dd3d35",
      "metadata": {
        "colab": {
          "base_uri": "https://localhost:8080/"
        },
        "id": "18dd3d35",
        "outputId": "172250b4-4491-48c6-b1ba-376d71e124ea"
      },
      "outputs": [
        {
          "output_type": "execute_result",
          "data": {
            "text/plain": [
              "78"
            ]
          },
          "metadata": {},
          "execution_count": 55
        }
      ],
      "source": [
        "# sum of missing values in ALL the columns now will be 0\n",
        "df.isna().sum().sum()"
      ]
    },
    {
      "cell_type": "code",
      "execution_count": null,
      "id": "7e73faec",
      "metadata": {
        "colab": {
          "base_uri": "https://localhost:8080/"
        },
        "id": "7e73faec",
        "outputId": "300e3fa3-bf33-4b82-a9e4-ce9a66c2c068"
      },
      "outputs": [
        {
          "output_type": "execute_result",
          "data": {
            "text/plain": [
              "(5379, 45)"
            ]
          },
          "metadata": {},
          "execution_count": 56
        }
      ],
      "source": [
        "df.shape"
      ]
    },
    {
      "cell_type": "markdown",
      "id": "6b15711a",
      "metadata": {
        "id": "6b15711a"
      },
      "source": [
        "### Data type conversion"
      ]
    },
    {
      "cell_type": "code",
      "source": [
        "# Changing the data type of warranty_months to integer\n",
        "\n",
        "df['warranty_months'] = df['warranty_months'].astype(int)\n"
      ],
      "metadata": {
        "id": "_mZqP71YDm2c"
      },
      "id": "_mZqP71YDm2c",
      "execution_count": null,
      "outputs": []
    },
    {
      "cell_type": "code",
      "execution_count": null,
      "id": "7d17e16e",
      "metadata": {
        "colab": {
          "base_uri": "https://localhost:8080/"
        },
        "id": "7d17e16e",
        "outputId": "85bdb2c2-ef8f-4c23-c3b5-e650c9ffc057"
      },
      "outputs": [
        {
          "output_type": "stream",
          "name": "stdout",
          "text": [
            "        id   brand         model                                   version_1  \\\n",
            "0        1  Abarth  Abarth - 595                   Abarth 595 1.4T-Jet 107kW   \n",
            "1        2  Abarth  Abarth - 595                  Abarth 595C 1.4T-Jet 107kW   \n",
            "2        3  Abarth  Abarth - 595             Abarth 595 1.4T-Jet Pista 121kW   \n",
            "3        4  Abarth  Abarth - 595            Abarth 595C 1.4T-Jet Pista 121kW   \n",
            "4        5  Abarth  Abarth - 595        Abarth 595 1.4T-Jet Pista Aut. 121kW   \n",
            "...    ...     ...           ...                                         ...   \n",
            "5374  5375   Volvo  Volvo - XC90                   XC90 B5 R-Design AWD Aut.   \n",
            "5375  5376   Volvo  Volvo - XC90  XC90 T8 Twin Recharge Inscription Expre...   \n",
            "5376  5377   Volvo  Volvo - XC90  XC90 T8 Twin Recharge R-Design Expressi...   \n",
            "5377  5378   Volvo  Volvo - XC90  XC90 T8 Twin Recharge Inscription AWD Aut.   \n",
            "5378  5379   Volvo  Volvo - XC90     XC90 T8 Twin Recharge R-Design AWD Aut.   \n",
            "\n",
            "      power_1  doors                                     fuel    co2    price  \\\n",
            "0         145      3                                 Gasolina  ambar  20934.0   \n",
            "1         145      2                                 Gasolina  ambar  22834.0   \n",
            "2         165      3                                 Gasolina  ambar  23934.0   \n",
            "3         165      2                                 Gasolina  ambar  25834.0   \n",
            "4         165      3                                 Gasolina  ambar  25884.0   \n",
            "...       ...    ...                                      ...    ...      ...   \n",
            "5374      250      5                                 Gasolina   rojo  61318.0   \n",
            "5375      390      5  Híbrido|Gasolina y corriente eléctrica   verde  63099.0   \n",
            "5376      390      5  Híbrido|Gasolina y corriente eléctrica   verde  64584.0   \n",
            "5377      390      5  Híbrido|Gasolina y corriente eléctrica   verde  68380.0   \n",
            "5378      390      5  Híbrido|Gasolina y corriente eléctrica   verde  68396.0   \n",
            "\n",
            "                                        drive  ... acceleration_missing  \\\n",
            "0                         Tracción delantera   ...                False   \n",
            "1                         Tracción delantera   ...                False   \n",
            "2                         Tracción delantera   ...                False   \n",
            "3                         Tracción delantera   ...                False   \n",
            "4                         Tracción delantera   ...                False   \n",
            "...                                       ...  ...                  ...   \n",
            "5374  Todo terreno tracción total permanente   ...                False   \n",
            "5375  Todo terreno tracción total permanente   ...                False   \n",
            "5376  Todo terreno tracción total permanente   ...                False   \n",
            "5377  Todo terreno tracción total permanente   ...                False   \n",
            "5378  Todo terreno tracción total permanente   ...                False   \n",
            "\n",
            "      max_power_revolutions_missing  torque_missing  weight_missing  \\\n",
            "0                             False           False           False   \n",
            "1                             False           False           False   \n",
            "2                             False           False           False   \n",
            "3                             False           False           False   \n",
            "4                             False           False           False   \n",
            "...                             ...             ...             ...   \n",
            "5374                          False           False           False   \n",
            "5375                          False           False           False   \n",
            "5376                          False           False           False   \n",
            "5377                          False           False           False   \n",
            "5378                          False           False           False   \n",
            "\n",
            "      length_missing  width_missing  height_missing  drive_missing  \\\n",
            "0              False          False           False          False   \n",
            "1              False          False           False          False   \n",
            "2              False          False           False          False   \n",
            "3              False          False           False          False   \n",
            "4              False          False           False          False   \n",
            "...              ...            ...             ...            ...   \n",
            "5374           False          False           False          False   \n",
            "5375           False          False           False          False   \n",
            "5376           False          False           False          False   \n",
            "5377           False          False           False          False   \n",
            "5378           False          False           False          False   \n",
            "\n",
            "      transmission_missing  body_work_missing  \n",
            "0                    False              False  \n",
            "1                    False              False  \n",
            "2                    False              False  \n",
            "3                    False              False  \n",
            "4                    False              False  \n",
            "...                    ...                ...  \n",
            "5374                 False              False  \n",
            "5375                 False              False  \n",
            "5376                 False              False  \n",
            "5377                 False              False  \n",
            "5378                 False              False  \n",
            "\n",
            "[5379 rows x 45 columns]\n"
          ]
        }
      ],
      "source": [
        "# price column has a currency symbol next to it which prevents us from analyzing it as a numerical value\n",
        "# thus, we will convert it into a float\n",
        "df['price'] = df['price'].replace( '[€,]', '', regex=True ).astype(float)\n",
        "\n",
        "print(df)"
      ]
    },
    {
      "cell_type": "markdown",
      "id": "981141e0",
      "metadata": {
        "id": "981141e0"
      },
      "source": [
        "### Dealing with Outliers"
      ]
    },
    {
      "cell_type": "markdown",
      "id": "88f71d62",
      "metadata": {
        "id": "88f71d62"
      },
      "source": [
        "Detecting outliers (only for the numerical variables ), but we will not be removing them since we were given the information that the dataset could not have been compromised in any such way. We will simply store a dataframe with deleted outliers inside a variable \"df_without_outliers\""
      ]
    },
    {
      "cell_type": "code",
      "execution_count": null,
      "id": "844ae60a",
      "metadata": {
        "id": "844ae60a"
      },
      "outputs": [],
      "source": [
        "# Create a function to detect outliers using Z-score\n",
        "def detect_outliers(df_without_outliers):\n",
        "    # Create an empty list to store the column names of numerical columns\n",
        "    numerical_cols = []\n",
        "    # Iterate through the columns of the dataframe\n",
        "    for col in df_without_outliers.columns:\n",
        "        # If the column data type is numeric, append the column name to the list\n",
        "        if np.issubdtype(df_without_outliers[col].dtype, np.number):\n",
        "            numerical_cols.append(col)\n",
        "    # Set the threshold for the Z-score\n",
        "    threshold = 3\n",
        "    # Iterate through each numerical column\n",
        "    for col in numerical_cols:\n",
        "        # Calculate the Z-score of each value in the column\n",
        "        z = np.abs(stats.zscore(df_without_outliers[col]))\n",
        "        # Find the rows with Z-scores more than the threshold\n",
        "        outliers = np.where(z > threshold)\n",
        "        # Remove the rows with outliers from the dataframe\n",
        "        df_without_outliers = df_without_outliers.drop(df_without_outliers.index[outliers])\n",
        "    return df_without_outliers\n",
        "\n",
        "# Apply the function to the dataframe\n",
        "df_without_outliers = df\n",
        "df_without_outliers = detect_outliers(df_without_outliers)\n"
      ]
    },
    {
      "cell_type": "code",
      "execution_count": null,
      "id": "sRUQ1a_hnmbz",
      "metadata": {
        "colab": {
          "base_uri": "https://localhost:8080/",
          "height": 1000
        },
        "id": "sRUQ1a_hnmbz",
        "outputId": "996e6e57-286b-4002-f8c1-e45df6d06739"
      },
      "outputs": [
        {
          "output_type": "execute_result",
          "data": {
            "text/plain": [
              "        id   brand         model                                   version_1  \\\n",
              "0        1  Abarth  Abarth - 595                   Abarth 595 1.4T-Jet 107kW   \n",
              "1        2  Abarth  Abarth - 595                  Abarth 595C 1.4T-Jet 107kW   \n",
              "2        3  Abarth  Abarth - 595             Abarth 595 1.4T-Jet Pista 121kW   \n",
              "3        4  Abarth  Abarth - 595            Abarth 595C 1.4T-Jet Pista 121kW   \n",
              "4        5  Abarth  Abarth - 595        Abarth 595 1.4T-Jet Pista Aut. 121kW   \n",
              "...    ...     ...           ...                                         ...   \n",
              "5374  5375   Volvo  Volvo - XC90                   XC90 B5 R-Design AWD Aut.   \n",
              "5375  5376   Volvo  Volvo - XC90  XC90 T8 Twin Recharge Inscription Expre...   \n",
              "5376  5377   Volvo  Volvo - XC90  XC90 T8 Twin Recharge R-Design Expressi...   \n",
              "5377  5378   Volvo  Volvo - XC90  XC90 T8 Twin Recharge Inscription AWD Aut.   \n",
              "5378  5379   Volvo  Volvo - XC90     XC90 T8 Twin Recharge R-Design AWD Aut.   \n",
              "\n",
              "      power_1  doors                                     fuel    co2    price  \\\n",
              "0         145      3                                 Gasolina  ambar  20934.0   \n",
              "1         145      2                                 Gasolina  ambar  22834.0   \n",
              "2         165      3                                 Gasolina  ambar  23934.0   \n",
              "3         165      2                                 Gasolina  ambar  25834.0   \n",
              "4         165      3                                 Gasolina  ambar  25884.0   \n",
              "...       ...    ...                                      ...    ...      ...   \n",
              "5374      250      5                                 Gasolina   rojo  61318.0   \n",
              "5375      390      5  Híbrido|Gasolina y corriente eléctrica   verde  63099.0   \n",
              "5376      390      5  Híbrido|Gasolina y corriente eléctrica   verde  64584.0   \n",
              "5377      390      5  Híbrido|Gasolina y corriente eléctrica   verde  68380.0   \n",
              "5378      390      5  Híbrido|Gasolina y corriente eléctrica   verde  68396.0   \n",
              "\n",
              "                                        drive  ... acceleration_missing  \\\n",
              "0                         Tracción delantera   ...                False   \n",
              "1                         Tracción delantera   ...                False   \n",
              "2                         Tracción delantera   ...                False   \n",
              "3                         Tracción delantera   ...                False   \n",
              "4                         Tracción delantera   ...                False   \n",
              "...                                       ...  ...                  ...   \n",
              "5374  Todo terreno tracción total permanente   ...                False   \n",
              "5375  Todo terreno tracción total permanente   ...                False   \n",
              "5376  Todo terreno tracción total permanente   ...                False   \n",
              "5377  Todo terreno tracción total permanente   ...                False   \n",
              "5378  Todo terreno tracción total permanente   ...                False   \n",
              "\n",
              "      max_power_revolutions_missing  torque_missing  weight_missing  \\\n",
              "0                             False           False           False   \n",
              "1                             False           False           False   \n",
              "2                             False           False           False   \n",
              "3                             False           False           False   \n",
              "4                             False           False           False   \n",
              "...                             ...             ...             ...   \n",
              "5374                          False           False           False   \n",
              "5375                          False           False           False   \n",
              "5376                          False           False           False   \n",
              "5377                          False           False           False   \n",
              "5378                          False           False           False   \n",
              "\n",
              "      length_missing  width_missing  height_missing  drive_missing  \\\n",
              "0              False          False           False          False   \n",
              "1              False          False           False          False   \n",
              "2              False          False           False          False   \n",
              "3              False          False           False          False   \n",
              "4              False          False           False          False   \n",
              "...              ...            ...             ...            ...   \n",
              "5374           False          False           False          False   \n",
              "5375           False          False           False          False   \n",
              "5376           False          False           False          False   \n",
              "5377           False          False           False          False   \n",
              "5378           False          False           False          False   \n",
              "\n",
              "      transmission_missing  body_work_missing  \n",
              "0                    False              False  \n",
              "1                    False              False  \n",
              "2                    False              False  \n",
              "3                    False              False  \n",
              "4                    False              False  \n",
              "...                    ...                ...  \n",
              "5374                 False              False  \n",
              "5375                 False              False  \n",
              "5376                 False              False  \n",
              "5377                 False              False  \n",
              "5378                 False              False  \n",
              "\n",
              "[4224 rows x 45 columns]"
            ],
            "text/html": [
              "\n",
              "  <div id=\"df-2a93a44e-0a97-4e9b-8e50-54fe86b537db\">\n",
              "    <div class=\"colab-df-container\">\n",
              "      <div>\n",
              "<style scoped>\n",
              "    .dataframe tbody tr th:only-of-type {\n",
              "        vertical-align: middle;\n",
              "    }\n",
              "\n",
              "    .dataframe tbody tr th {\n",
              "        vertical-align: top;\n",
              "    }\n",
              "\n",
              "    .dataframe thead th {\n",
              "        text-align: right;\n",
              "    }\n",
              "</style>\n",
              "<table border=\"1\" class=\"dataframe\">\n",
              "  <thead>\n",
              "    <tr style=\"text-align: right;\">\n",
              "      <th></th>\n",
              "      <th>id</th>\n",
              "      <th>brand</th>\n",
              "      <th>model</th>\n",
              "      <th>version_1</th>\n",
              "      <th>power_1</th>\n",
              "      <th>doors</th>\n",
              "      <th>fuel</th>\n",
              "      <th>co2</th>\n",
              "      <th>price</th>\n",
              "      <th>drive</th>\n",
              "      <th>...</th>\n",
              "      <th>acceleration_missing</th>\n",
              "      <th>max_power_revolutions_missing</th>\n",
              "      <th>torque_missing</th>\n",
              "      <th>weight_missing</th>\n",
              "      <th>length_missing</th>\n",
              "      <th>width_missing</th>\n",
              "      <th>height_missing</th>\n",
              "      <th>drive_missing</th>\n",
              "      <th>transmission_missing</th>\n",
              "      <th>body_work_missing</th>\n",
              "    </tr>\n",
              "  </thead>\n",
              "  <tbody>\n",
              "    <tr>\n",
              "      <th>0</th>\n",
              "      <td>1</td>\n",
              "      <td>Abarth</td>\n",
              "      <td>Abarth - 595</td>\n",
              "      <td>Abarth 595 1.4T-Jet 107kW</td>\n",
              "      <td>145</td>\n",
              "      <td>3</td>\n",
              "      <td>Gasolina</td>\n",
              "      <td>ambar</td>\n",
              "      <td>20934.0</td>\n",
              "      <td>Tracción delantera</td>\n",
              "      <td>...</td>\n",
              "      <td>False</td>\n",
              "      <td>False</td>\n",
              "      <td>False</td>\n",
              "      <td>False</td>\n",
              "      <td>False</td>\n",
              "      <td>False</td>\n",
              "      <td>False</td>\n",
              "      <td>False</td>\n",
              "      <td>False</td>\n",
              "      <td>False</td>\n",
              "    </tr>\n",
              "    <tr>\n",
              "      <th>1</th>\n",
              "      <td>2</td>\n",
              "      <td>Abarth</td>\n",
              "      <td>Abarth - 595</td>\n",
              "      <td>Abarth 595C 1.4T-Jet 107kW</td>\n",
              "      <td>145</td>\n",
              "      <td>2</td>\n",
              "      <td>Gasolina</td>\n",
              "      <td>ambar</td>\n",
              "      <td>22834.0</td>\n",
              "      <td>Tracción delantera</td>\n",
              "      <td>...</td>\n",
              "      <td>False</td>\n",
              "      <td>False</td>\n",
              "      <td>False</td>\n",
              "      <td>False</td>\n",
              "      <td>False</td>\n",
              "      <td>False</td>\n",
              "      <td>False</td>\n",
              "      <td>False</td>\n",
              "      <td>False</td>\n",
              "      <td>False</td>\n",
              "    </tr>\n",
              "    <tr>\n",
              "      <th>2</th>\n",
              "      <td>3</td>\n",
              "      <td>Abarth</td>\n",
              "      <td>Abarth - 595</td>\n",
              "      <td>Abarth 595 1.4T-Jet Pista 121kW</td>\n",
              "      <td>165</td>\n",
              "      <td>3</td>\n",
              "      <td>Gasolina</td>\n",
              "      <td>ambar</td>\n",
              "      <td>23934.0</td>\n",
              "      <td>Tracción delantera</td>\n",
              "      <td>...</td>\n",
              "      <td>False</td>\n",
              "      <td>False</td>\n",
              "      <td>False</td>\n",
              "      <td>False</td>\n",
              "      <td>False</td>\n",
              "      <td>False</td>\n",
              "      <td>False</td>\n",
              "      <td>False</td>\n",
              "      <td>False</td>\n",
              "      <td>False</td>\n",
              "    </tr>\n",
              "    <tr>\n",
              "      <th>3</th>\n",
              "      <td>4</td>\n",
              "      <td>Abarth</td>\n",
              "      <td>Abarth - 595</td>\n",
              "      <td>Abarth 595C 1.4T-Jet Pista 121kW</td>\n",
              "      <td>165</td>\n",
              "      <td>2</td>\n",
              "      <td>Gasolina</td>\n",
              "      <td>ambar</td>\n",
              "      <td>25834.0</td>\n",
              "      <td>Tracción delantera</td>\n",
              "      <td>...</td>\n",
              "      <td>False</td>\n",
              "      <td>False</td>\n",
              "      <td>False</td>\n",
              "      <td>False</td>\n",
              "      <td>False</td>\n",
              "      <td>False</td>\n",
              "      <td>False</td>\n",
              "      <td>False</td>\n",
              "      <td>False</td>\n",
              "      <td>False</td>\n",
              "    </tr>\n",
              "    <tr>\n",
              "      <th>4</th>\n",
              "      <td>5</td>\n",
              "      <td>Abarth</td>\n",
              "      <td>Abarth - 595</td>\n",
              "      <td>Abarth 595 1.4T-Jet Pista Aut. 121kW</td>\n",
              "      <td>165</td>\n",
              "      <td>3</td>\n",
              "      <td>Gasolina</td>\n",
              "      <td>ambar</td>\n",
              "      <td>25884.0</td>\n",
              "      <td>Tracción delantera</td>\n",
              "      <td>...</td>\n",
              "      <td>False</td>\n",
              "      <td>False</td>\n",
              "      <td>False</td>\n",
              "      <td>False</td>\n",
              "      <td>False</td>\n",
              "      <td>False</td>\n",
              "      <td>False</td>\n",
              "      <td>False</td>\n",
              "      <td>False</td>\n",
              "      <td>False</td>\n",
              "    </tr>\n",
              "    <tr>\n",
              "      <th>...</th>\n",
              "      <td>...</td>\n",
              "      <td>...</td>\n",
              "      <td>...</td>\n",
              "      <td>...</td>\n",
              "      <td>...</td>\n",
              "      <td>...</td>\n",
              "      <td>...</td>\n",
              "      <td>...</td>\n",
              "      <td>...</td>\n",
              "      <td>...</td>\n",
              "      <td>...</td>\n",
              "      <td>...</td>\n",
              "      <td>...</td>\n",
              "      <td>...</td>\n",
              "      <td>...</td>\n",
              "      <td>...</td>\n",
              "      <td>...</td>\n",
              "      <td>...</td>\n",
              "      <td>...</td>\n",
              "      <td>...</td>\n",
              "      <td>...</td>\n",
              "    </tr>\n",
              "    <tr>\n",
              "      <th>5374</th>\n",
              "      <td>5375</td>\n",
              "      <td>Volvo</td>\n",
              "      <td>Volvo - XC90</td>\n",
              "      <td>XC90 B5 R-Design AWD Aut.</td>\n",
              "      <td>250</td>\n",
              "      <td>5</td>\n",
              "      <td>Gasolina</td>\n",
              "      <td>rojo</td>\n",
              "      <td>61318.0</td>\n",
              "      <td>Todo terreno tracción total permanente</td>\n",
              "      <td>...</td>\n",
              "      <td>False</td>\n",
              "      <td>False</td>\n",
              "      <td>False</td>\n",
              "      <td>False</td>\n",
              "      <td>False</td>\n",
              "      <td>False</td>\n",
              "      <td>False</td>\n",
              "      <td>False</td>\n",
              "      <td>False</td>\n",
              "      <td>False</td>\n",
              "    </tr>\n",
              "    <tr>\n",
              "      <th>5375</th>\n",
              "      <td>5376</td>\n",
              "      <td>Volvo</td>\n",
              "      <td>Volvo - XC90</td>\n",
              "      <td>XC90 T8 Twin Recharge Inscription Expre...</td>\n",
              "      <td>390</td>\n",
              "      <td>5</td>\n",
              "      <td>Híbrido|Gasolina y corriente eléctrica</td>\n",
              "      <td>verde</td>\n",
              "      <td>63099.0</td>\n",
              "      <td>Todo terreno tracción total permanente</td>\n",
              "      <td>...</td>\n",
              "      <td>False</td>\n",
              "      <td>False</td>\n",
              "      <td>False</td>\n",
              "      <td>False</td>\n",
              "      <td>False</td>\n",
              "      <td>False</td>\n",
              "      <td>False</td>\n",
              "      <td>False</td>\n",
              "      <td>False</td>\n",
              "      <td>False</td>\n",
              "    </tr>\n",
              "    <tr>\n",
              "      <th>5376</th>\n",
              "      <td>5377</td>\n",
              "      <td>Volvo</td>\n",
              "      <td>Volvo - XC90</td>\n",
              "      <td>XC90 T8 Twin Recharge R-Design Expressi...</td>\n",
              "      <td>390</td>\n",
              "      <td>5</td>\n",
              "      <td>Híbrido|Gasolina y corriente eléctrica</td>\n",
              "      <td>verde</td>\n",
              "      <td>64584.0</td>\n",
              "      <td>Todo terreno tracción total permanente</td>\n",
              "      <td>...</td>\n",
              "      <td>False</td>\n",
              "      <td>False</td>\n",
              "      <td>False</td>\n",
              "      <td>False</td>\n",
              "      <td>False</td>\n",
              "      <td>False</td>\n",
              "      <td>False</td>\n",
              "      <td>False</td>\n",
              "      <td>False</td>\n",
              "      <td>False</td>\n",
              "    </tr>\n",
              "    <tr>\n",
              "      <th>5377</th>\n",
              "      <td>5378</td>\n",
              "      <td>Volvo</td>\n",
              "      <td>Volvo - XC90</td>\n",
              "      <td>XC90 T8 Twin Recharge Inscription AWD Aut.</td>\n",
              "      <td>390</td>\n",
              "      <td>5</td>\n",
              "      <td>Híbrido|Gasolina y corriente eléctrica</td>\n",
              "      <td>verde</td>\n",
              "      <td>68380.0</td>\n",
              "      <td>Todo terreno tracción total permanente</td>\n",
              "      <td>...</td>\n",
              "      <td>False</td>\n",
              "      <td>False</td>\n",
              "      <td>False</td>\n",
              "      <td>False</td>\n",
              "      <td>False</td>\n",
              "      <td>False</td>\n",
              "      <td>False</td>\n",
              "      <td>False</td>\n",
              "      <td>False</td>\n",
              "      <td>False</td>\n",
              "    </tr>\n",
              "    <tr>\n",
              "      <th>5378</th>\n",
              "      <td>5379</td>\n",
              "      <td>Volvo</td>\n",
              "      <td>Volvo - XC90</td>\n",
              "      <td>XC90 T8 Twin Recharge R-Design AWD Aut.</td>\n",
              "      <td>390</td>\n",
              "      <td>5</td>\n",
              "      <td>Híbrido|Gasolina y corriente eléctrica</td>\n",
              "      <td>verde</td>\n",
              "      <td>68396.0</td>\n",
              "      <td>Todo terreno tracción total permanente</td>\n",
              "      <td>...</td>\n",
              "      <td>False</td>\n",
              "      <td>False</td>\n",
              "      <td>False</td>\n",
              "      <td>False</td>\n",
              "      <td>False</td>\n",
              "      <td>False</td>\n",
              "      <td>False</td>\n",
              "      <td>False</td>\n",
              "      <td>False</td>\n",
              "      <td>False</td>\n",
              "    </tr>\n",
              "  </tbody>\n",
              "</table>\n",
              "<p>4224 rows × 45 columns</p>\n",
              "</div>\n",
              "      <button class=\"colab-df-convert\" onclick=\"convertToInteractive('df-2a93a44e-0a97-4e9b-8e50-54fe86b537db')\"\n",
              "              title=\"Convert this dataframe to an interactive table.\"\n",
              "              style=\"display:none;\">\n",
              "        \n",
              "  <svg xmlns=\"http://www.w3.org/2000/svg\" height=\"24px\"viewBox=\"0 0 24 24\"\n",
              "       width=\"24px\">\n",
              "    <path d=\"M0 0h24v24H0V0z\" fill=\"none\"/>\n",
              "    <path d=\"M18.56 5.44l.94 2.06.94-2.06 2.06-.94-2.06-.94-.94-2.06-.94 2.06-2.06.94zm-11 1L8.5 8.5l.94-2.06 2.06-.94-2.06-.94L8.5 2.5l-.94 2.06-2.06.94zm10 10l.94 2.06.94-2.06 2.06-.94-2.06-.94-.94-2.06-.94 2.06-2.06.94z\"/><path d=\"M17.41 7.96l-1.37-1.37c-.4-.4-.92-.59-1.43-.59-.52 0-1.04.2-1.43.59L10.3 9.45l-7.72 7.72c-.78.78-.78 2.05 0 2.83L4 21.41c.39.39.9.59 1.41.59.51 0 1.02-.2 1.41-.59l7.78-7.78 2.81-2.81c.8-.78.8-2.07 0-2.86zM5.41 20L4 18.59l7.72-7.72 1.47 1.35L5.41 20z\"/>\n",
              "  </svg>\n",
              "      </button>\n",
              "      \n",
              "  <style>\n",
              "    .colab-df-container {\n",
              "      display:flex;\n",
              "      flex-wrap:wrap;\n",
              "      gap: 12px;\n",
              "    }\n",
              "\n",
              "    .colab-df-convert {\n",
              "      background-color: #E8F0FE;\n",
              "      border: none;\n",
              "      border-radius: 50%;\n",
              "      cursor: pointer;\n",
              "      display: none;\n",
              "      fill: #1967D2;\n",
              "      height: 32px;\n",
              "      padding: 0 0 0 0;\n",
              "      width: 32px;\n",
              "    }\n",
              "\n",
              "    .colab-df-convert:hover {\n",
              "      background-color: #E2EBFA;\n",
              "      box-shadow: 0px 1px 2px rgba(60, 64, 67, 0.3), 0px 1px 3px 1px rgba(60, 64, 67, 0.15);\n",
              "      fill: #174EA6;\n",
              "    }\n",
              "\n",
              "    [theme=dark] .colab-df-convert {\n",
              "      background-color: #3B4455;\n",
              "      fill: #D2E3FC;\n",
              "    }\n",
              "\n",
              "    [theme=dark] .colab-df-convert:hover {\n",
              "      background-color: #434B5C;\n",
              "      box-shadow: 0px 1px 3px 1px rgba(0, 0, 0, 0.15);\n",
              "      filter: drop-shadow(0px 1px 2px rgba(0, 0, 0, 0.3));\n",
              "      fill: #FFFFFF;\n",
              "    }\n",
              "  </style>\n",
              "\n",
              "      <script>\n",
              "        const buttonEl =\n",
              "          document.querySelector('#df-2a93a44e-0a97-4e9b-8e50-54fe86b537db button.colab-df-convert');\n",
              "        buttonEl.style.display =\n",
              "          google.colab.kernel.accessAllowed ? 'block' : 'none';\n",
              "\n",
              "        async function convertToInteractive(key) {\n",
              "          const element = document.querySelector('#df-2a93a44e-0a97-4e9b-8e50-54fe86b537db');\n",
              "          const dataTable =\n",
              "            await google.colab.kernel.invokeFunction('convertToInteractive',\n",
              "                                                     [key], {});\n",
              "          if (!dataTable) return;\n",
              "\n",
              "          const docLinkHtml = 'Like what you see? Visit the ' +\n",
              "            '<a target=\"_blank\" href=https://colab.research.google.com/notebooks/data_table.ipynb>data table notebook</a>'\n",
              "            + ' to learn more about interactive tables.';\n",
              "          element.innerHTML = '';\n",
              "          dataTable['output_type'] = 'display_data';\n",
              "          await google.colab.output.renderOutput(dataTable, element);\n",
              "          const docLink = document.createElement('div');\n",
              "          docLink.innerHTML = docLinkHtml;\n",
              "          element.appendChild(docLink);\n",
              "        }\n",
              "      </script>\n",
              "    </div>\n",
              "  </div>\n",
              "  "
            ]
          },
          "metadata": {},
          "execution_count": 60
        }
      ],
      "source": [
        "df_without_outliers"
      ]
    },
    {
      "cell_type": "code",
      "source": [
        "num_cols = df.select_dtypes(include=['int64', 'float64']).columns\n",
        "\n",
        "# draw boxplots for each numerical column\n",
        "for col in num_cols:\n",
        "    plt.figure()\n",
        "    df.boxplot([col])\n",
        "    plt.title(col)\n",
        "\n",
        "# show the plots\n",
        "plt.show()"
      ],
      "metadata": {
        "id": "ucOia-2C7RIM",
        "colab": {
          "base_uri": "https://localhost:8080/",
          "height": 1000
        },
        "outputId": "2f12758b-d395-4e24-f366-0ecea7f7930b"
      },
      "id": "ucOia-2C7RIM",
      "execution_count": null,
      "outputs": [
        {
          "output_type": "display_data",
          "data": {
            "text/plain": [
              "<Figure size 432x288 with 1 Axes>"
            ],
            "image/png": "[encoded data removed]"
          },
          "metadata": {
            "needs_background": "light"
          }
        },
        {
          "output_type": "display_data",
          "data": {
            "text/plain": [
              "<Figure size 432x288 with 1 Axes>"
            ],
            "image/png": "[encoded data removed]"
          },
          "metadata": {
            "needs_background": "light"
          }
        },
        {
          "output_type": "display_data",
          "data": {
            "text/plain": [
              "<Figure size 432x288 with 1 Axes>"
            ],
            "image/png": "[encoded data removed]"
          },
          "metadata": {
            "needs_background": "light"
          }
        },
        {
          "output_type": "display_data",
          "data": {
            "text/plain": [
              "<Figure size 432x288 with 1 Axes>"
            ],
            "image/png": "[encoded data removed]"
          },
          "metadata": {
            "needs_background": "light"
          }
        },
        {
          "output_type": "display_data",
          "data": {
            "text/plain": [
              "<Figure size 432x288 with 1 Axes>"
            ],
            "image/png": "[encoded data removed]"
          },
          "metadata": {
            "needs_background": "light"
          }
        },
        {
          "output_type": "display_data",
          "data": {
            "text/plain": [
              "<Figure size 432x288 with 1 Axes>"
            ],
            "image/png": "[encoded data removed]"
          },
          "metadata": {
            "needs_background": "light"
          }
        },
        {
          "output_type": "display_data",
          "data": {
            "text/plain": [
              "<Figure size 432x288 with 1 Axes>"
            ],
            "image/png": "[encoded data removed]"
          },
          "metadata": {
            "needs_background": "light"
          }
        },
        {
          "output_type": "display_data",
          "data": {
            "text/plain": [
              "<Figure size 432x288 with 1 Axes>"
            ],
            "image/png": "[encoded data removed]"
          },
          "metadata": {
            "needs_background": "light"
          }
        },
        {
          "output_type": "display_data",
          "data": {
            "text/plain": [
              "<Figure size 432x288 with 1 Axes>"
            ],
            "image/png": "[encoded data removed]"
          },
          "metadata": {
            "needs_background": "light"
          }
        },
        {
          "output_type": "display_data",
          "data": {
            "text/plain": [
              "<Figure size 432x288 with 1 Axes>"
            ],
            "image/png": "[encoded data removed]"
          },
          "metadata": {
            "needs_background": "light"
          }
        },
        {
          "output_type": "display_data",
          "data": {
            "text/plain": [
              "<Figure size 432x288 with 1 Axes>"
            ],
            "image/png": "[encoded data removed]"
          },
          "metadata": {
            "needs_background": "light"
          }
        },
        {
          "output_type": "display_data",
          "data": {
            "text/plain": [
              "<Figure size 432x288 with 1 Axes>"
            ],
            "image/png": "[encoded data removed]"
          },
          "metadata": {
            "needs_background": "light"
          }
        },
        {
          "output_type": "display_data",
          "data": {
            "text/plain": [
              "<Figure size 432x288 with 1 Axes>"
            ],
            "image/png": "[encoded data removed]"
          },
          "metadata": {
            "needs_background": "light"
          }
        },
        {
          "output_type": "display_data",
          "data": {
            "text/plain": [
              "<Figure size 432x288 with 1 Axes>"
            ],
            "image/png": "[encoded data removed]"
          },
          "metadata": {
            "needs_background": "light"
          }
        },
        {
          "output_type": "display_data",
          "data": {
            "text/plain": [
              "<Figure size 432x288 with 1 Axes>"
            ],
            "image/png": "[encoded data removed]"
          },
          "metadata": {
            "needs_background": "light"
          }
        },
        {
          "output_type": "display_data",
          "data": {
            "text/plain": [
              "<Figure size 432x288 with 1 Axes>"
            ],
            "image/png": "[encoded data removed]"
          },
          "metadata": {
            "needs_background": "light"
          }
        },
        {
          "output_type": "display_data",
          "data": {
            "text/plain": [
              "<Figure size 432x288 with 1 Axes>"
            ],
            "image/png": "[encoded data removed]"
          },
          "metadata": {
            "needs_background": "light"
          }
        },
        {
          "output_type": "display_data",
          "data": {
            "text/plain": [
              "<Figure size 432x288 with 1 Axes>"
            ],
            "image/png": "[encoded data removed]"
          },
          "metadata": {
            "needs_background": "light"
          }
        },
        {
          "output_type": "display_data",
          "data": {
            "text/plain": [
              "<Figure size 432x288 with 1 Axes>"
            ],
            "image/png": "[encoded data removed]"
          },
          "metadata": {
            "needs_background": "light"
          }
        }
      ]
    },
    {
      "cell_type": "markdown",
      "id": "2e295104",
      "metadata": {
        "id": "2e295104"
      },
      "source": [
        "### Correlation Matrix"
      ]
    },
    {
      "cell_type": "code",
      "execution_count": null,
      "id": "0b8a4c61",
      "metadata": {
        "colab": {
          "base_uri": "https://localhost:8080/",
          "height": 1000
        },
        "id": "0b8a4c61",
        "outputId": "65fabcb1-fa03-42c6-aee4-b41ea69d56cb"
      },
      "outputs": [
        {
          "output_type": "display_data",
          "data": {
            "text/plain": [
              "<Figure size 2880x2880 with 4 Axes>"
            ],
            "image/png": "[encoded data removed]"
          },
          "metadata": {
            "needs_background": "light"
          }
        }
      ],
      "source": [
        "#remove binary columns for preserving missing values, since including them inside correlation won't give us interesting insights\n",
        "df_for_corr = df.drop(columns=['co2_emissions_missing', 'autonomy_missing',\n",
        "       'consumption_missing', 'warranty_months_missing', 'motor_cc_missing',\n",
        "       'tank_capacity_litres_missing', 'numberof_gears_missing',\n",
        "       'max_speed_kmph_missing', 'acceleration_missing',\n",
        "       'max_power_revolutions_missing', 'torque_missing', 'weight_missing',\n",
        "       'length_missing', 'width_missing', 'height_missing', 'drive_missing',\n",
        "       'transmission_missing', 'body_work_missing'])\n",
        "g = sns.clustermap(df_for_corr.corr(), vmin=-1,vmax=1,cmap=sns.color_palette(\"RdBu_r\", 21),annot=True)\n",
        "fig = plt.gcf()\n",
        "fig.set_size_inches(40, 40)\n",
        "plt.show()"
      ]
    },
    {
      "cell_type": "markdown",
      "id": "944f8825",
      "metadata": {
        "id": "944f8825"
      },
      "source": [
        "### Data scaling"
      ]
    },
    {
      "cell_type": "markdown",
      "id": "61c01675",
      "metadata": {
        "id": "61c01675"
      },
      "source": [
        "Data scaling only for the numerical variables (But we are not replacing actual values with scaled values at the moment, because we will need original values for future statistical exploration. We could use these scaled values if later we dicide to use methods that use the distance between data points, such as KNN for example). scaled df will be saved in the variable df_scaled."
      ]
    },
    {
      "cell_type": "code",
      "execution_count": null,
      "id": "8b68881a",
      "metadata": {
        "id": "8b68881a"
      },
      "outputs": [],
      "source": [
        "from sklearn.preprocessing import MinMaxScaler\n",
        "\n",
        "#create a list of numerical columns\n",
        "numerical_cols = []\n",
        "for col in df.columns:\n",
        "    if np.issubdtype(df[col].dtype, np.number):\n",
        "        numerical_cols.append(col)\n",
        "\n",
        "#subset the numerical columns\n",
        "df_num = df[numerical_cols]\n",
        "\n",
        "# Initialize the Scaler\n",
        "scaler = MinMaxScaler()\n",
        "\n",
        "# Scale the numerical columns\n",
        "df_scaled = scaler.fit_transform(df_num)\n"
      ]
    },
    {
      "cell_type": "markdown",
      "id": "d67ef963",
      "metadata": {
        "id": "d67ef963"
      },
      "source": [
        "### Questions:"
      ]
    },
    {
      "cell_type": "markdown",
      "id": "frKFp1Rr0sTw",
      "metadata": {
        "id": "frKFp1Rr0sTw"
      },
      "source": [
        "- How does the average price of a car vary across different brands?"
      ]
    },
    {
      "cell_type": "code",
      "execution_count": null,
      "id": "83dbb396",
      "metadata": {
        "colab": {
          "base_uri": "https://localhost:8080/",
          "height": 295
        },
        "id": "83dbb396",
        "outputId": "0a92d6ae-9551-440f-d208-0083c88ebc2c"
      },
      "outputs": [
        {
          "output_type": "display_data",
          "data": {
            "text/plain": [
              "<Figure size 432x288 with 1 Axes>"
            ],
            "image/png": "[encoded data removed]"
          },
          "metadata": {
            "needs_background": "light"
          }
        }
      ],
      "source": [
        "df_brand = df.groupby('brand')['price'].mean()\n",
        "df_brand.sort_values(ascending=False, inplace=True)\n",
        "\n",
        "sns.barplot(x=df_brand.values, y=df_brand.index)\n",
        "#sns.heatmap(data=df_brand, annot=True,x='values',y='index')\n",
        "\n",
        "plt.xlabel('Average Price')\n",
        "plt.ylabel('Brand')\n",
        "plt.title('Average price of cars across different brands')\n",
        "plt.show()\n"
      ]
    },
    {
      "cell_type": "markdown",
      "id": "4e29a3e9",
      "metadata": {
        "id": "4e29a3e9"
      },
      "source": [
        "- How does the average horsepower of a car vary across different brands?"
      ]
    },
    {
      "cell_type": "code",
      "execution_count": null,
      "id": "bc20c2cb",
      "metadata": {
        "colab": {
          "base_uri": "https://localhost:8080/",
          "height": 295
        },
        "id": "bc20c2cb",
        "outputId": "c3bc7f87-adfb-45ae-b969-9c447877c9f0"
      },
      "outputs": [
        {
          "output_type": "display_data",
          "data": {
            "text/plain": [
              "<Figure size 432x288 with 1 Axes>"
            ],
            "image/png": "[encoded data removed]"
          },
          "metadata": {
            "needs_background": "light"
          }
        }
      ],
      "source": [
        "df_brand = df.groupby('brand')['power_1'].mean()\n",
        "df_brand.sort_values(ascending=False, inplace=True)\n",
        "\n",
        "sns.barplot(x=df_brand.values, y=df_brand.index)\n",
        "plt.xlabel('Average horsepower')\n",
        "plt.ylabel('Brand')\n",
        "plt.title('Average horsepower of cars across different brands')\n",
        "plt.show()\n"
      ]
    },
    {
      "cell_type": "markdown",
      "id": "119e07c6",
      "metadata": {
        "id": "119e07c6"
      },
      "source": [
        "- How does the warranty period of cars vary across different brands?"
      ]
    },
    {
      "cell_type": "code",
      "execution_count": null,
      "id": "e1fda067",
      "metadata": {
        "colab": {
          "base_uri": "https://localhost:8080/",
          "height": 295
        },
        "id": "e1fda067",
        "outputId": "399d8637-a481-4ce3-978e-a34ab22cbf9f"
      },
      "outputs": [
        {
          "output_type": "display_data",
          "data": {
            "text/plain": [
              "<Figure size 432x288 with 1 Axes>"
            ],
            "image/png": "[encoded data removed]"
          },
          "metadata": {
            "needs_background": "light"
          }
        }
      ],
      "source": [
        "df_warranty = df.groupby('brand')['warranty_months'].mean()\n",
        "df_warranty.sort_values(ascending=False, inplace=True)\n",
        "\n",
        "sns.barplot(x=df_warranty.values, y=df_warranty.index)\n",
        "plt.xlabel('Average warranty period (months)')\n",
        "plt.ylabel('Brand')\n",
        "plt.title('Average warranty period of cars across different brands')\n",
        "plt.show()\n"
      ]
    },
    {
      "cell_type": "markdown",
      "id": "21f26d21",
      "metadata": {
        "id": "21f26d21"
      },
      "source": [
        "- How does the horsepower of cars vary across different transmission types?"
      ]
    },
    {
      "cell_type": "code",
      "execution_count": null,
      "id": "410d8514",
      "metadata": {
        "colab": {
          "base_uri": "https://localhost:8080/",
          "height": 295
        },
        "id": "410d8514",
        "outputId": "cf04c795-e94c-4e32-acda-7e2c4d478cca"
      },
      "outputs": [
        {
          "output_type": "display_data",
          "data": {
            "text/plain": [
              "<Figure size 432x288 with 1 Axes>"
            ],
            "image/png": "[encoded data removed]"
          },
          "metadata": {
            "needs_background": "light"
          }
        }
      ],
      "source": [
        "df_transmission = df.groupby('transmission')['power_1'].mean()\n",
        "df_transmission.sort_values(ascending=False, inplace=True)\n",
        "\n",
        "sns.barplot(x=df_transmission.values, y=df_transmission.index)\n",
        "plt.xlabel('Average horsepower')\n",
        "plt.ylabel('Transmission Type')\n",
        "plt.title('Average horsepower of cars across different transmission types')\n",
        "plt.show()\n"
      ]
    },
    {
      "cell_type": "markdown",
      "id": "d91c2fca",
      "metadata": {
        "id": "d91c2fca"
      },
      "source": [
        "- How does the fuel consumption of cars vary across different transmission types?"
      ]
    },
    {
      "cell_type": "code",
      "execution_count": null,
      "id": "b4f6274d",
      "metadata": {
        "colab": {
          "base_uri": "https://localhost:8080/",
          "height": 295
        },
        "id": "b4f6274d",
        "outputId": "27bd24ad-85f2-40ce-c934-5254f86d7ff2"
      },
      "outputs": [
        {
          "output_type": "display_data",
          "data": {
            "text/plain": [
              "<Figure size 432x288 with 1 Axes>"
            ],
            "image/png": "[encoded data removed]"
          },
          "metadata": {
            "needs_background": "light"
          }
        }
      ],
      "source": [
        "df_transmission = df.groupby('transmission')['consumption'].mean()\n",
        "df_transmission.sort_values(ascending=False, inplace=True)\n",
        "\n",
        "sns.barplot(x=df_transmission.values, y=df_transmission.index)\n",
        "plt.xlabel('Average fuel consumption (l/100km)')\n",
        "plt.ylabel('Transmission Type')\n",
        "plt.title('Average fuel consumption of cars across different transmission types')\n",
        "plt.show()\n"
      ]
    },
    {
      "cell_type": "markdown",
      "id": "4c28cd03",
      "metadata": {
        "id": "4c28cd03"
      },
      "source": [
        "### Converting categorical variables into numerical variables"
      ]
    },
    {
      "cell_type": "code",
      "execution_count": null,
      "id": "a321b9a4",
      "metadata": {
        "colab": {
          "base_uri": "https://localhost:8080/"
        },
        "id": "a321b9a4",
        "outputId": "67a9e837-d772-4daf-9353-fbbe83866d72",
        "scrolled": true
      },
      "outputs": [
        {
          "output_type": "execute_result",
          "data": {
            "text/plain": [
              "['brand',\n",
              " 'model',\n",
              " 'version_1',\n",
              " 'fuel',\n",
              " 'co2',\n",
              " 'drive',\n",
              " 'transmission',\n",
              " 'body_work']"
            ]
          },
          "metadata": {},
          "execution_count": 69
        }
      ],
      "source": [
        "categorical_cols = []\n",
        "for col in df.columns:\n",
        "    if not np.issubdtype(df[col].dtype, np.number) and not np.issubdtype(df[col].dtype, bool):\n",
        "        categorical_cols.append(col)\n",
        "categorical_cols"
      ]
    },
    {
      "cell_type": "code",
      "execution_count": null,
      "id": "7c7698b6",
      "metadata": {
        "colab": {
          "base_uri": "https://localhost:8080/"
        },
        "id": "7c7698b6",
        "outputId": "709d8685-52a1-4084-dc91-8ce0a732dcbc",
        "scrolled": true
      },
      "outputs": [
        {
          "output_type": "stream",
          "name": "stdout",
          "text": [
            "column -  brand  - number of unique values -  38 \n",
            "   unique values -  ['Abarth' 'Alfa Romeo' 'Aston Martin' 'Audi' 'Bmw' 'Citroen' 'Cupra'\n",
            " 'Dacia' 'Ds' 'Fiat' 'Ford' 'Honda' 'Hyundai' 'Jaguar' 'Jeep' 'Kia'\n",
            " 'Land Rover' 'Lexus' 'Maserati' 'Mazda' 'Mercedes' 'Mini' 'Mitsubishi'\n",
            " 'Morgan' 'Nissan' 'Opel' 'Peugeot' 'Porsche' 'Renault' 'Seat' 'Skoda'\n",
            " 'Smart' 'Ssangyong' 'Subaru' 'Suzuki' 'Toyota' 'Volkswagen' 'Volvo']\n",
            "column -  model  - number of unique values -  334 \n",
            "   unique values -  ['Abarth - 595' 'Alfa romeo - Giulia' 'Alfa romeo - Giulietta'\n",
            " 'Alfa romeo - Stelvio' 'Aston martin - DB11' 'Aston martin - DBS'\n",
            " 'Aston martin - DBX' 'Aston martin - Vantage' 'Audi - A1'\n",
            " 'Audi - A1 Citycarver' 'Audi - A3' 'Audi - A4' 'Audi - A4 Allroad'\n",
            " 'Audi - A5' 'Audi - A6' 'Audi - A6 Allroad' 'Audi - A7' 'Audi - A8'\n",
            " 'Audi - e-tron' 'Audi - Q2' 'Audi - Q3' 'Audi - Q5' 'Audi - Q7'\n",
            " 'Audi - Q8' 'Audi - R8' 'Audi - TT' 'Bmw - i3' 'Bmw - Serie 1'\n",
            " 'Bmw - Serie 2' 'Bmw - Serie 3' 'Bmw - Serie 4' 'Bmw - Serie 5'\n",
            " 'Bmw - Serie 6' 'Bmw - Serie 7' 'Bmw - Serie 8' 'Bmw - X1' 'Bmw - X2'\n",
            " 'Bmw - X3' 'Bmw - X4' 'Bmw - X5' 'Bmw - X6' 'Bmw - X7' 'Bmw - Z4'\n",
            " 'Citroen - Berlingo' 'Citroen - C-Elysée' 'Citroen - C1' 'Citroen - C3'\n",
            " 'Citroen - C3 Aircross' 'Citroen - C3 Comercial' 'Citroen - C4 Cactus'\n",
            " 'Citroen - C4 Spacetourer' 'Citroen - C5 Aircross' 'Citroen - Jumper'\n",
            " 'Citroen - Jumpy' 'Citroen - SpaceTourer' 'Cupra - Ateca'\n",
            " 'Dacia - Dokker' 'Dacia - Dokker Comercial' 'Dacia - Duster'\n",
            " 'Dacia - Lodgy' 'Dacia - Logan' 'Dacia - Sandero' 'Ds - DS3 Crossback'\n",
            " 'Ds - DS7 Crossback' 'Fiat - 500' 'Fiat - 500L' 'Fiat - 500X'\n",
            " 'Fiat - Dobló' 'Fiat - Ducato' 'Fiat - Ducato M1'\n",
            " 'Fiat - Fiorino Comercial' 'Fiat - Panda' 'Fiat - Panda Van'\n",
            " 'Fiat - Talento' 'Fiat - Tipo' 'Ford - EcoSport' 'Ford - Explorer'\n",
            " 'Ford - Fiesta' 'Ford - Focus' 'Ford - Galaxy' 'Ford - Kuga'\n",
            " 'Ford - Mondeo' 'Ford - Mustang' 'Ford - Puma' 'Ford - Puma SUV'\n",
            " 'Ford - Ranger' 'Ford - S-Max' 'Ford - Tourneo Connect'\n",
            " 'Ford - Tourneo Courier' 'Ford - Tourneo Custom' 'Ford - Transit'\n",
            " 'Ford - Transit Courier' 'Ford - Transit Custom' 'Honda - Civic'\n",
            " 'Honda - CR-V' 'Honda - Honda e' 'Honda - HR-V' 'Honda - Jazz'\n",
            " 'Hyundai - H-1' 'Hyundai - i10' 'Hyundai - i20' 'Hyundai - i20 Active'\n",
            " 'Hyundai - i30' 'Hyundai - i40' 'Hyundai - Ioniq' 'Hyundai - ix20'\n",
            " 'Hyundai - Kona' 'Hyundai - Nexo' 'Hyundai - Santa Fe' 'Hyundai - Tucson'\n",
            " 'Jaguar - E-Pace' 'Jaguar - F-Pace' 'Jaguar - F-Type' 'Jaguar - I-Pace'\n",
            " 'Jaguar - XE' 'Jaguar - XF' 'Jaguar - XJ' 'Jeep - Cherokee'\n",
            " 'Jeep - Compass' 'Jeep - Grand Cherokee' 'Jeep - Renegade'\n",
            " 'Jeep - Wrangler' 'Kia - Ceed' 'Kia - Niro' 'Kia - Optima'\n",
            " 'Kia - Picanto' 'Kia - Rio' 'Kia - Sorento' 'Kia - Soul' 'Kia - Sportage'\n",
            " 'Kia - Stinger' 'Kia - Stonic' 'Kia - XCeed' 'Land rover - Defender'\n",
            " 'Land rover - Discovery' 'Land rover - Discovery Sport'\n",
            " 'Land rover - Range Rover' 'Land rover - Range Rover Evoque'\n",
            " 'Land rover - Range Rover Sport' 'Land rover - Range Rover Velar'\n",
            " 'Lexus - CT' 'Lexus - ES' 'Lexus - IS' 'Lexus - LC' 'Lexus - LS'\n",
            " 'Lexus - NX' 'Lexus - RC' 'Lexus - UX' 'Maserati - Ghibli'\n",
            " 'Maserati - GranTurismo' 'Maserati - Levante' 'Maserati - Quattroporte'\n",
            " 'Mazda - CX-3' 'Mazda - CX-30' 'Mazda - CX-5' 'Mazda - Mazda2'\n",
            " 'Mazda - Mazda3' 'Mazda - Mazda6' 'Mazda - MX-30' 'Mazda - MX-5'\n",
            " 'Mercedes - AMG GT' 'Mercedes - Citan' 'Mercedes - Clase A'\n",
            " 'Mercedes - Clase B' 'Mercedes - Clase C' 'Mercedes - Clase CLA'\n",
            " 'Mercedes - Clase CLS' 'Mercedes - Clase E' 'Mercedes - Clase G'\n",
            " 'Mercedes - Clase GLA' 'Mercedes - Clase GLB' 'Mercedes - Clase GLC'\n",
            " 'Mercedes - Clase GLE' 'Mercedes - Clase GLS' 'Mercedes - Clase S'\n",
            " 'Mercedes - Clase SL' 'Mercedes - Clase V' 'Mercedes - Clase X'\n",
            " 'Mercedes - EQC' 'Mercedes - Sprinter' 'Mercedes - Vito'\n",
            " 'Mercedes - Vito M1' 'Mini - Countryman' 'Mini - Mini'\n",
            " 'Mini - Mini Clubman' 'Mitsubishi - ASX' 'Mitsubishi - Eclipse Cross'\n",
            " 'Mitsubishi - L200' 'Mitsubishi - Outlander' 'Mitsubishi - Space Star'\n",
            " 'Morgan - 4-4' 'Morgan - Plus 4' 'Morgan - Plus 6' 'Morgan - Roadster'\n",
            " 'Nissan - 370Z' 'Nissan - Evalia' 'Nissan - GT-R' 'Nissan - Juke'\n",
            " 'Nissan - Leaf' 'Nissan - Micra' 'Nissan - Navara' 'Nissan - NT400'\n",
            " 'Nissan - NV200' 'Nissan - NV250' 'Nissan - NV300' 'Nissan - NV400'\n",
            " 'Nissan - Qashqai' 'Nissan - X-Trail' 'Opel - Astra' 'Opel - Combo'\n",
            " 'Opel - Corsa' 'Opel - Crossland X' 'Opel - Grandland X'\n",
            " 'Opel - Insignia' 'Opel - Mokka' 'Opel - Movano' 'Opel - Vivaro'\n",
            " 'Opel - Zafira Life' 'Peugeot - 108' 'Peugeot - 2008' 'Peugeot - 208'\n",
            " 'Peugeot - 208 XAD' 'Peugeot - 3008' 'Peugeot - 308' 'Peugeot - 5008'\n",
            " 'Peugeot - 508' 'Peugeot - Boxer' 'Peugeot - Expert' 'Peugeot - iOn'\n",
            " 'Peugeot - Partner' 'Peugeot - Rifter' 'Peugeot - Traveller'\n",
            " 'Porsche - 911' 'Porsche - Boxster' 'Porsche - Cayenne'\n",
            " 'Porsche - Cayman' 'Porsche - Macan' 'Porsche - Panamera'\n",
            " 'Porsche - Taycan' 'Renault - Captur' 'Renault - Clio'\n",
            " 'Renault - Clio Societé' 'Renault - Espace' 'Renault - Kadjar'\n",
            " 'Renault - Kangoo' 'Renault - Koleos' 'Renault - Master'\n",
            " 'Renault - Mégane' 'Renault - Scénic' 'Renault - Talisman'\n",
            " 'Renault - Trafic' 'Renault - Twingo' 'Renault - Twizy' 'Renault - Zoe'\n",
            " 'Renault - Zoe Societé' 'Seat - Alhambra' 'Seat - Arona' 'Seat - Ateca'\n",
            " 'Seat - Ibiza' 'Seat - León' 'Seat - Mii' 'Seat - Tarraco'\n",
            " 'Skoda - Citigo' 'Skoda - Fabia' 'Skoda - Kamiq' 'Skoda - Karoq'\n",
            " 'Skoda - Kodiaq' 'Skoda - Octavia' 'Skoda - Scala' 'Skoda - Scout'\n",
            " 'Skoda - Superb' 'Smart - Forfour' 'Smart - Fortwo' 'Ssangyong - Korando'\n",
            " 'Ssangyong - Rexton' 'Ssangyong - Tivoli' 'Ssangyong - XLV'\n",
            " 'Subaru - BRZ' 'Subaru - Forester' 'Subaru - Impreza' 'Subaru - Levorg'\n",
            " 'Subaru - Outback' 'Subaru - XV' 'Suzuki - Ignis' 'Suzuki - Swift'\n",
            " 'Suzuki - SX4 S-Cross' 'Suzuki - Vitara' 'Toyota - Aygo' 'Toyota - C-HR'\n",
            " 'Toyota - Camry' 'Toyota - Corolla' 'Toyota - GT86' 'Toyota - Hilux'\n",
            " 'Toyota - Land Cruiser' 'Toyota - Land Cruiser Comercial'\n",
            " 'Toyota - Prius' 'Toyota - Prius Plus' 'Toyota - Proace'\n",
            " 'Toyota - Proace City' 'Toyota - Proace Verso' 'Toyota - RAV-4'\n",
            " 'Toyota - Supra' 'Toyota - Yaris' 'Toyota - Yaris Van'\n",
            " 'Volkswagen - Amarok' 'Volkswagen - Arteon' 'Volkswagen - Caddy'\n",
            " 'Volkswagen - California' 'Volkswagen - Caravelle' 'Volkswagen - Crafter'\n",
            " 'Volkswagen - Golf' 'Volkswagen - Grand California'\n",
            " 'Volkswagen - Multivan' 'Volkswagen - Passat'\n",
            " 'Volkswagen - Passat Alltrack' 'Volkswagen - Polo' 'Volkswagen - Sharan'\n",
            " 'Volkswagen - T-Cross' 'Volkswagen - T-Roc' 'Volkswagen - Tiguan'\n",
            " 'Volkswagen - Touareg' 'Volkswagen - Touran' 'Volkswagen - Transporter'\n",
            " 'Volkswagen - Up' 'Volkswagen - Up Comercial' 'Volvo - S60' 'Volvo - S90'\n",
            " 'Volvo - V60' 'Volvo - V60 Cross Country' 'Volvo - V90'\n",
            " 'Volvo - V90 Cross Country' 'Volvo - XC40' 'Volvo - XC60' 'Volvo - XC90']\n",
            "column -  version_1  - number of unique values -  5048 \n",
            "   unique values -  ['Abarth 595 1.4T-Jet 107kW' 'Abarth 595C 1.4T-Jet 107kW'\n",
            " 'Abarth 595 1.4T-Jet Pista 121kW' ...\n",
            " 'XC90 T8 Twin Recharge R-Design Expressi...'\n",
            " 'XC90 T8 Twin Recharge Inscription AWD Aut.'\n",
            " 'XC90 T8 Twin Recharge R-Design AWD Aut.']\n",
            "column -  fuel  - number of unique values -  8 \n",
            "   unique values -  ['Gasolina' 'Diesel' 'Híbrido|Gasolina y corriente eléctrica '\n",
            " 'Eléctrico|Corriente eléctrica ' 'Gasolina|Gasolina/gas '\n",
            " 'Gasolina|Hidrogeno ' 'Híbrido' 'Híbrido|Diesel y corriente eléctrica ']\n",
            "column -  co2  - number of unique values -  4 \n",
            "   unique values -  ['ambar' 'gris' 'verde' 'rojo']\n",
            "column -  drive  - number of unique values -  6 \n",
            "   unique values -  ['Tracción delantera ' 'Tracción trasera ' 'Tracción total permanente '\n",
            " 'Todo terreno tracción total permanente ' 'Tracción total conectable '\n",
            " 'Todo terreno tracción total conectable ']\n",
            "column -  transmission  - number of unique values -  9 \n",
            "   unique values -  ['Manual ' 'Automática secuencial ' 'Automática ' 'Automática continua '\n",
            " 'Directo, sin caja de cambios ' 'Automática continua, secuencial '\n",
            " 'Tipo de caja de cambios ' 'Manual automatizada ' 'Manual con subgrupos ']\n",
            "column -  body_work  - number of unique values -  15 \n",
            "   unique values -  ['Berlina ' 'Convertible ' 'Todo Terreno ' 'Coupe ' 'Stationwagon '\n",
            " 'Roadster ' 'Monovolumen ' 'Furgon ' 'Combi ' 'Chasis '\n",
            " 'Pick-Up Doble Cabina ' 'Pick-Up ' 'Chasis Doble Cabina ' 'Bus ' 'Targa ']\n"
          ]
        }
      ],
      "source": [
        "# exploring categorical variables\n",
        "for col in categorical_cols:\n",
        "    print(\"column - \", col, \" - number of unique values - \", len(df[col].unique()), \"\\n   unique values - \", df[col].unique())"
      ]
    },
    {
      "cell_type": "markdown",
      "id": "1c9c8cbd",
      "metadata": {
        "id": "1c9c8cbd"
      },
      "source": [
        "#### Columns 'version_1' and 'model' give us redundant information that (in our humble opinion) doesn't offer us any important insight. These two columns also make Brand redundant. Therefore, we will stick with brand and eliminate 'version_1' and 'model' columns, since these two categorical variables also have a large amount of unique values, not giving us any useful information."
      ]
    },
    {
      "cell_type": "code",
      "execution_count": null,
      "id": "bb2c4fbe",
      "metadata": {
        "id": "bb2c4fbe",
        "scrolled": true
      },
      "outputs": [],
      "source": [
        "df=df.drop(columns=['model','version_1'])"
      ]
    },
    {
      "cell_type": "code",
      "execution_count": null,
      "id": "915ca54c",
      "metadata": {
        "id": "915ca54c"
      },
      "outputs": [],
      "source": [
        "#deleting removed columns from categorical_cols\n",
        "removed_cols = ['model','version_1']\n",
        "categorical_cols = [col for col in categorical_cols if col not in removed_cols]"
      ]
    },
    {
      "cell_type": "markdown",
      "source": [
        "### Exploring categorical varaibles"
      ],
      "metadata": {
        "id": "4QR5q-jSHkY6"
      },
      "id": "4QR5q-jSHkY6"
    },
    {
      "cell_type": "markdown",
      "id": "oHLqyJdOq6bO",
      "metadata": {
        "id": "oHLqyJdOq6bO"
      },
      "source": [
        "####Exploring fuel column"
      ]
    },
    {
      "cell_type": "code",
      "execution_count": null,
      "id": "xvnQ3R-BrDvO",
      "metadata": {
        "colab": {
          "base_uri": "https://localhost:8080/"
        },
        "id": "xvnQ3R-BrDvO",
        "outputId": "5aa39d3c-d7a2-4325-897f-86c0f092d237"
      },
      "outputs": [
        {
          "output_type": "execute_result",
          "data": {
            "text/plain": [
              "Diesel                                     2861\n",
              "Gasolina                                   1993\n",
              "Híbrido|Gasolina y corriente eléctrica      302\n",
              "Eléctrico|Corriente eléctrica               131\n",
              "Gasolina|Gasolina/gas                        82\n",
              "Híbrido|Diesel y corriente eléctrica          7\n",
              "Híbrido                                       2\n",
              "Gasolina|Hidrogeno                            1\n",
              "Name: fuel, dtype: int64"
            ]
          },
          "metadata": {},
          "execution_count": 73
        }
      ],
      "source": [
        "df['fuel'].value_counts()"
      ]
    },
    {
      "cell_type": "code",
      "execution_count": null,
      "id": "Oj-alaPqtPHM",
      "metadata": {
        "id": "Oj-alaPqtPHM"
      },
      "outputs": [],
      "source": [
        "# seems like Hidrogeno and Hibrido are not represented well enough and we won't be able to draw any interesting conclusions. Thus, we will remove them.\n",
        "\n",
        "df = df[df.fuel != 'Híbrido']\n",
        "df = df[df.fuel != 'Gasolina|Hidrogeno ']"
      ]
    },
    {
      "cell_type": "code",
      "execution_count": null,
      "id": "uOaSqNvbtsd-",
      "metadata": {
        "colab": {
          "base_uri": "https://localhost:8080/"
        },
        "id": "uOaSqNvbtsd-",
        "outputId": "db1a7bc4-3bd5-4e14-a04b-0e8d6905041c"
      },
      "outputs": [
        {
          "output_type": "execute_result",
          "data": {
            "text/plain": [
              "Index(['id', 'brand', 'power_1', 'doors', 'fuel', 'co2', 'price', 'drive',\n",
              "       'transmission', 'co2_emissions', 'autonomy', 'consumption',\n",
              "       'warranty_months', 'motor_cc', 'tank_capacity_litres', 'numberof_gears',\n",
              "       'max_speed_kmph', 'acceleration', 'max_power_revolutions', 'torque',\n",
              "       'body_work', 'weight', 'length', 'width', 'height',\n",
              "       'consumption_missing', 'autonomy_missing', 'co2_emissions_missing',\n",
              "       'warranty_months_missing', 'motor_cc_missing',\n",
              "       'tank_capacity_litres_missing', 'numberof_gears_missing',\n",
              "       'max_speed_kmph_missing', 'acceleration_missing',\n",
              "       'max_power_revolutions_missing', 'torque_missing', 'weight_missing',\n",
              "       'length_missing', 'width_missing', 'height_missing', 'drive_missing',\n",
              "       'transmission_missing', 'body_work_missing', 'diesel', 'gasolina',\n",
              "       'electrica'],\n",
              "      dtype='object')"
            ]
          },
          "metadata": {},
          "execution_count": 75
        }
      ],
      "source": [
        "# now we will put all the rest of the unique values into three columns using multiple hot encoding\n",
        "df['diesel'] = 0\n",
        "df['gasolina'] = 0\n",
        "df['electrica'] = 0\n",
        "\n",
        "df['diesel'] = df['fuel'].apply(lambda x: 1 if 'iesel' in x else 0)\n",
        "df['gasolina'] = df['fuel'].apply(lambda x: 1 if 'asolina' in x else 0)\n",
        "df['electrica'] = df['fuel'].apply(lambda x: 1 if 'léctric' in x else 0)\n",
        "\n",
        "df.columns"
      ]
    },
    {
      "cell_type": "code",
      "execution_count": null,
      "id": "AcOUVGqaxEXi",
      "metadata": {
        "id": "AcOUVGqaxEXi"
      },
      "outputs": [],
      "source": [
        "# and we will delete the column fuel now\n",
        "df = df.drop(columns=['fuel'])\n",
        "categorical_cols.remove('fuel')"
      ]
    },
    {
      "cell_type": "markdown",
      "id": "aCU0qcre0GAF",
      "metadata": {
        "id": "aCU0qcre0GAF"
      },
      "source": [
        "#### Exploring brand column"
      ]
    },
    {
      "cell_type": "code",
      "execution_count": null,
      "id": "ypQwup-W0Fsu",
      "metadata": {
        "colab": {
          "base_uri": "https://localhost:8080/"
        },
        "id": "ypQwup-W0Fsu",
        "outputId": "aa02000f-e38b-4fc5-f4d0-40d7283dabad"
      },
      "outputs": [
        {
          "output_type": "execute_result",
          "data": {
            "text/plain": [
              "Mercedes        397\n",
              "Audi            385\n",
              "Volkswagen      361\n",
              "Peugeot         332\n",
              "Ford            316\n",
              "Nissan          290\n",
              "Renault         280\n",
              "Bmw             233\n",
              "Land Rover      228\n",
              "Opel            226\n",
              "Fiat            199\n",
              "Kia             197\n",
              "Skoda           191\n",
              "Volvo           190\n",
              "Citroen         186\n",
              "Mazda           181\n",
              "Jaguar          165\n",
              "Toyota          141\n",
              "Hyundai         136\n",
              "Seat             95\n",
              "Porsche          73\n",
              "Lexus            69\n",
              "Ssangyong        56\n",
              "Mini             53\n",
              "Dacia            51\n",
              "Jeep             49\n",
              "Maserati         49\n",
              "Honda            48\n",
              "Ds               42\n",
              "Subaru           34\n",
              "Mitsubishi       28\n",
              "Suzuki           24\n",
              "Alfa Romeo       20\n",
              "Abarth           20\n",
              "Smart            15\n",
              "Aston Martin      7\n",
              "Morgan            6\n",
              "Cupra             3\n",
              "Name: brand, dtype: int64"
            ]
          },
          "metadata": {},
          "execution_count": 77
        }
      ],
      "source": [
        "df['brand'].value_counts() # we can see that the distribution is more or less exponential, we will use one hot encoding"
      ]
    },
    {
      "cell_type": "markdown",
      "id": "ChS1fnXkxfUQ",
      "metadata": {
        "id": "ChS1fnXkxfUQ"
      },
      "source": [
        "#### Exploring drive column"
      ]
    },
    {
      "cell_type": "code",
      "execution_count": null,
      "id": "tzpH7RLxrUXd",
      "metadata": {
        "colab": {
          "base_uri": "https://localhost:8080/"
        },
        "id": "tzpH7RLxrUXd",
        "outputId": "9cfedb0d-0c57-4ca0-c1ec-3a1f49725329"
      },
      "outputs": [
        {
          "output_type": "execute_result",
          "data": {
            "text/plain": [
              "Tracción delantera                         3644\n",
              "Todo terreno tracción total permanente      747\n",
              "Tracción trasera                            468\n",
              "Tracción total permanente                   437\n",
              "Todo terreno tracción total conectable       69\n",
              "Tracción total conectable                    11\n",
              "Name: drive, dtype: int64"
            ]
          },
          "metadata": {},
          "execution_count": 78
        }
      ],
      "source": [
        "df['drive'].value_counts()   # we will just use one hot encoding here"
      ]
    },
    {
      "cell_type": "markdown",
      "id": "4a10b7a9",
      "metadata": {
        "id": "4a10b7a9"
      },
      "source": [
        "#### Conversion of categorical variables into dummies"
      ]
    },
    {
      "cell_type": "code",
      "execution_count": null,
      "id": "c4596e0d",
      "metadata": {
        "colab": {
          "base_uri": "https://localhost:8080/",
          "height": 505
        },
        "id": "c4596e0d",
        "outputId": "4b975e0d-f3b0-49be-8cf4-0472be970c75"
      },
      "outputs": [
        {
          "output_type": "execute_result",
          "data": {
            "text/plain": [
              "        id  power_1  doors    price  co2_emissions  autonomy  consumption  \\\n",
              "0        1      145      3  20934.0          155.0     583.3          6.0   \n",
              "1        2      145      2  22834.0          156.0     583.3          6.0   \n",
              "2        3      165      3  23934.0          157.0     583.3          6.0   \n",
              "3        4      165      2  25834.0          158.0     583.3          6.0   \n",
              "4        5      165      3  25884.0          157.0     583.3          6.0   \n",
              "...    ...      ...    ...      ...            ...       ...          ...   \n",
              "5374  5375      250      5  61318.0          163.0    1000.0          7.1   \n",
              "5375  5376      390      5  63099.0           48.0    3333.3          2.1   \n",
              "5376  5377      390      5  64584.0           48.0    3333.3          2.1   \n",
              "5377  5378      390      5  68380.0           48.0    3333.3          2.1   \n",
              "5378  5379      390      5  68396.0           48.0    3333.3          2.1   \n",
              "\n",
              "      warranty_months  motor_cc  tank_capacity_litres  ...  \\\n",
              "0                   0    1368.0                  35.0  ...   \n",
              "1                   0    1368.0                  35.0  ...   \n",
              "2                   0    1368.0                  35.0  ...   \n",
              "3                   0    1368.0                  35.0  ...   \n",
              "4                   0    1368.0                  35.0  ...   \n",
              "...               ...       ...                   ...  ...   \n",
              "5374               24    1969.0                  71.0  ...   \n",
              "5375               24    1969.0                  70.0  ...   \n",
              "5376               24    1969.0                  70.0  ...   \n",
              "5377               24    1969.0                  70.0  ...   \n",
              "5378               24    1969.0                  70.0  ...   \n",
              "\n",
              "      body_work_Convertible   body_work_Coupe   body_work_Furgon   \\\n",
              "0                          0                 0                  0   \n",
              "1                          1                 0                  0   \n",
              "2                          0                 0                  0   \n",
              "3                          1                 0                  0   \n",
              "4                          0                 0                  0   \n",
              "...                      ...               ...                ...   \n",
              "5374                       0                 0                  0   \n",
              "5375                       0                 0                  0   \n",
              "5376                       0                 0                  0   \n",
              "5377                       0                 0                  0   \n",
              "5378                       0                 0                  0   \n",
              "\n",
              "      body_work_Monovolumen   body_work_Pick-Up   \\\n",
              "0                          0                   0   \n",
              "1                          0                   0   \n",
              "2                          0                   0   \n",
              "3                          0                   0   \n",
              "4                          0                   0   \n",
              "...                      ...                 ...   \n",
              "5374                       0                   0   \n",
              "5375                       0                   0   \n",
              "5376                       0                   0   \n",
              "5377                       0                   0   \n",
              "5378                       0                   0   \n",
              "\n",
              "      body_work_Pick-Up Doble Cabina   body_work_Roadster   \\\n",
              "0                                   0                    0   \n",
              "1                                   0                    0   \n",
              "2                                   0                    0   \n",
              "3                                   0                    0   \n",
              "4                                   0                    0   \n",
              "...                               ...                  ...   \n",
              "5374                                0                    0   \n",
              "5375                                0                    0   \n",
              "5376                                0                    0   \n",
              "5377                                0                    0   \n",
              "5378                                0                    0   \n",
              "\n",
              "      body_work_Stationwagon   body_work_Targa   body_work_Todo Terreno   \n",
              "0                           0                 0                        0  \n",
              "1                           0                 0                        0  \n",
              "2                           0                 0                        0  \n",
              "3                           0                 0                        0  \n",
              "4                           0                 0                        0  \n",
              "...                       ...               ...                      ...  \n",
              "5374                        0                 0                        1  \n",
              "5375                        0                 0                        1  \n",
              "5376                        0                 0                        1  \n",
              "5377                        0                 0                        1  \n",
              "5378                        0                 0                        1  \n",
              "\n",
              "[5376 rows x 112 columns]"
            ],
            "text/html": [
              "\n",
              "  <div id=\"df-af021b72-fc0d-4bef-946c-7cce94df1533\">\n",
              "    <div class=\"colab-df-container\">\n",
              "      <div>\n",
              "<style scoped>\n",
              "    .dataframe tbody tr th:only-of-type {\n",
              "        vertical-align: middle;\n",
              "    }\n",
              "\n",
              "    .dataframe tbody tr th {\n",
              "        vertical-align: top;\n",
              "    }\n",
              "\n",
              "    .dataframe thead th {\n",
              "        text-align: right;\n",
              "    }\n",
              "</style>\n",
              "<table border=\"1\" class=\"dataframe\">\n",
              "  <thead>\n",
              "    <tr style=\"text-align: right;\">\n",
              "      <th></th>\n",
              "      <th>id</th>\n",
              "      <th>power_1</th>\n",
              "      <th>doors</th>\n",
              "      <th>price</th>\n",
              "      <th>co2_emissions</th>\n",
              "      <th>autonomy</th>\n",
              "      <th>consumption</th>\n",
              "      <th>warranty_months</th>\n",
              "      <th>motor_cc</th>\n",
              "      <th>tank_capacity_litres</th>\n",
              "      <th>...</th>\n",
              "      <th>body_work_Convertible</th>\n",
              "      <th>body_work_Coupe</th>\n",
              "      <th>body_work_Furgon</th>\n",
              "      <th>body_work_Monovolumen</th>\n",
              "      <th>body_work_Pick-Up</th>\n",
              "      <th>body_work_Pick-Up Doble Cabina</th>\n",
              "      <th>body_work_Roadster</th>\n",
              "      <th>body_work_Stationwagon</th>\n",
              "      <th>body_work_Targa</th>\n",
              "      <th>body_work_Todo Terreno</th>\n",
              "    </tr>\n",
              "  </thead>\n",
              "  <tbody>\n",
              "    <tr>\n",
              "      <th>0</th>\n",
              "      <td>1</td>\n",
              "      <td>145</td>\n",
              "      <td>3</td>\n",
              "      <td>20934.0</td>\n",
              "      <td>155.0</td>\n",
              "      <td>583.3</td>\n",
              "      <td>6.0</td>\n",
              "      <td>0</td>\n",
              "      <td>1368.0</td>\n",
              "      <td>35.0</td>\n",
              "      <td>...</td>\n",
              "      <td>0</td>\n",
              "      <td>0</td>\n",
              "      <td>0</td>\n",
              "      <td>0</td>\n",
              "      <td>0</td>\n",
              "      <td>0</td>\n",
              "      <td>0</td>\n",
              "      <td>0</td>\n",
              "      <td>0</td>\n",
              "      <td>0</td>\n",
              "    </tr>\n",
              "    <tr>\n",
              "      <th>1</th>\n",
              "      <td>2</td>\n",
              "      <td>145</td>\n",
              "      <td>2</td>\n",
              "      <td>22834.0</td>\n",
              "      <td>156.0</td>\n",
              "      <td>583.3</td>\n",
              "      <td>6.0</td>\n",
              "      <td>0</td>\n",
              "      <td>1368.0</td>\n",
              "      <td>35.0</td>\n",
              "      <td>...</td>\n",
              "      <td>1</td>\n",
              "      <td>0</td>\n",
              "      <td>0</td>\n",
              "      <td>0</td>\n",
              "      <td>0</td>\n",
              "      <td>0</td>\n",
              "      <td>0</td>\n",
              "      <td>0</td>\n",
              "      <td>0</td>\n",
              "      <td>0</td>\n",
              "    </tr>\n",
              "    <tr>\n",
              "      <th>2</th>\n",
              "      <td>3</td>\n",
              "      <td>165</td>\n",
              "      <td>3</td>\n",
              "      <td>23934.0</td>\n",
              "      <td>157.0</td>\n",
              "      <td>583.3</td>\n",
              "      <td>6.0</td>\n",
              "      <td>0</td>\n",
              "      <td>1368.0</td>\n",
              "      <td>35.0</td>\n",
              "      <td>...</td>\n",
              "      <td>0</td>\n",
              "      <td>0</td>\n",
              "      <td>0</td>\n",
              "      <td>0</td>\n",
              "      <td>0</td>\n",
              "      <td>0</td>\n",
              "      <td>0</td>\n",
              "      <td>0</td>\n",
              "      <td>0</td>\n",
              "      <td>0</td>\n",
              "    </tr>\n",
              "    <tr>\n",
              "      <th>3</th>\n",
              "      <td>4</td>\n",
              "      <td>165</td>\n",
              "      <td>2</td>\n",
              "      <td>25834.0</td>\n",
              "      <td>158.0</td>\n",
              "      <td>583.3</td>\n",
              "      <td>6.0</td>\n",
              "      <td>0</td>\n",
              "      <td>1368.0</td>\n",
              "      <td>35.0</td>\n",
              "      <td>...</td>\n",
              "      <td>1</td>\n",
              "      <td>0</td>\n",
              "      <td>0</td>\n",
              "      <td>0</td>\n",
              "      <td>0</td>\n",
              "      <td>0</td>\n",
              "      <td>0</td>\n",
              "      <td>0</td>\n",
              "      <td>0</td>\n",
              "      <td>0</td>\n",
              "    </tr>\n",
              "    <tr>\n",
              "      <th>4</th>\n",
              "      <td>5</td>\n",
              "      <td>165</td>\n",
              "      <td>3</td>\n",
              "      <td>25884.0</td>\n",
              "      <td>157.0</td>\n",
              "      <td>583.3</td>\n",
              "      <td>6.0</td>\n",
              "      <td>0</td>\n",
              "      <td>1368.0</td>\n",
              "      <td>35.0</td>\n",
              "      <td>...</td>\n",
              "      <td>0</td>\n",
              "      <td>0</td>\n",
              "      <td>0</td>\n",
              "      <td>0</td>\n",
              "      <td>0</td>\n",
              "      <td>0</td>\n",
              "      <td>0</td>\n",
              "      <td>0</td>\n",
              "      <td>0</td>\n",
              "      <td>0</td>\n",
              "    </tr>\n",
              "    <tr>\n",
              "      <th>...</th>\n",
              "      <td>...</td>\n",
              "      <td>...</td>\n",
              "      <td>...</td>\n",
              "      <td>...</td>\n",
              "      <td>...</td>\n",
              "      <td>...</td>\n",
              "      <td>...</td>\n",
              "      <td>...</td>\n",
              "      <td>...</td>\n",
              "      <td>...</td>\n",
              "      <td>...</td>\n",
              "      <td>...</td>\n",
              "      <td>...</td>\n",
              "      <td>...</td>\n",
              "      <td>...</td>\n",
              "      <td>...</td>\n",
              "      <td>...</td>\n",
              "      <td>...</td>\n",
              "      <td>...</td>\n",
              "      <td>...</td>\n",
              "      <td>...</td>\n",
              "    </tr>\n",
              "    <tr>\n",
              "      <th>5374</th>\n",
              "      <td>5375</td>\n",
              "      <td>250</td>\n",
              "      <td>5</td>\n",
              "      <td>61318.0</td>\n",
              "      <td>163.0</td>\n",
              "      <td>1000.0</td>\n",
              "      <td>7.1</td>\n",
              "      <td>24</td>\n",
              "      <td>1969.0</td>\n",
              "      <td>71.0</td>\n",
              "      <td>...</td>\n",
              "      <td>0</td>\n",
              "      <td>0</td>\n",
              "      <td>0</td>\n",
              "      <td>0</td>\n",
              "      <td>0</td>\n",
              "      <td>0</td>\n",
              "      <td>0</td>\n",
              "      <td>0</td>\n",
              "      <td>0</td>\n",
              "      <td>1</td>\n",
              "    </tr>\n",
              "    <tr>\n",
              "      <th>5375</th>\n",
              "      <td>5376</td>\n",
              "      <td>390</td>\n",
              "      <td>5</td>\n",
              "      <td>63099.0</td>\n",
              "      <td>48.0</td>\n",
              "      <td>3333.3</td>\n",
              "      <td>2.1</td>\n",
              "      <td>24</td>\n",
              "      <td>1969.0</td>\n",
              "      <td>70.0</td>\n",
              "      <td>...</td>\n",
              "      <td>0</td>\n",
              "      <td>0</td>\n",
              "      <td>0</td>\n",
              "      <td>0</td>\n",
              "      <td>0</td>\n",
              "      <td>0</td>\n",
              "      <td>0</td>\n",
              "      <td>0</td>\n",
              "      <td>0</td>\n",
              "      <td>1</td>\n",
              "    </tr>\n",
              "    <tr>\n",
              "      <th>5376</th>\n",
              "      <td>5377</td>\n",
              "      <td>390</td>\n",
              "      <td>5</td>\n",
              "      <td>64584.0</td>\n",
              "      <td>48.0</td>\n",
              "      <td>3333.3</td>\n",
              "      <td>2.1</td>\n",
              "      <td>24</td>\n",
              "      <td>1969.0</td>\n",
              "      <td>70.0</td>\n",
              "      <td>...</td>\n",
              "      <td>0</td>\n",
              "      <td>0</td>\n",
              "      <td>0</td>\n",
              "      <td>0</td>\n",
              "      <td>0</td>\n",
              "      <td>0</td>\n",
              "      <td>0</td>\n",
              "      <td>0</td>\n",
              "      <td>0</td>\n",
              "      <td>1</td>\n",
              "    </tr>\n",
              "    <tr>\n",
              "      <th>5377</th>\n",
              "      <td>5378</td>\n",
              "      <td>390</td>\n",
              "      <td>5</td>\n",
              "      <td>68380.0</td>\n",
              "      <td>48.0</td>\n",
              "      <td>3333.3</td>\n",
              "      <td>2.1</td>\n",
              "      <td>24</td>\n",
              "      <td>1969.0</td>\n",
              "      <td>70.0</td>\n",
              "      <td>...</td>\n",
              "      <td>0</td>\n",
              "      <td>0</td>\n",
              "      <td>0</td>\n",
              "      <td>0</td>\n",
              "      <td>0</td>\n",
              "      <td>0</td>\n",
              "      <td>0</td>\n",
              "      <td>0</td>\n",
              "      <td>0</td>\n",
              "      <td>1</td>\n",
              "    </tr>\n",
              "    <tr>\n",
              "      <th>5378</th>\n",
              "      <td>5379</td>\n",
              "      <td>390</td>\n",
              "      <td>5</td>\n",
              "      <td>68396.0</td>\n",
              "      <td>48.0</td>\n",
              "      <td>3333.3</td>\n",
              "      <td>2.1</td>\n",
              "      <td>24</td>\n",
              "      <td>1969.0</td>\n",
              "      <td>70.0</td>\n",
              "      <td>...</td>\n",
              "      <td>0</td>\n",
              "      <td>0</td>\n",
              "      <td>0</td>\n",
              "      <td>0</td>\n",
              "      <td>0</td>\n",
              "      <td>0</td>\n",
              "      <td>0</td>\n",
              "      <td>0</td>\n",
              "      <td>0</td>\n",
              "      <td>1</td>\n",
              "    </tr>\n",
              "  </tbody>\n",
              "</table>\n",
              "<p>5376 rows × 112 columns</p>\n",
              "</div>\n",
              "      <button class=\"colab-df-convert\" onclick=\"convertToInteractive('df-af021b72-fc0d-4bef-946c-7cce94df1533')\"\n",
              "              title=\"Convert this dataframe to an interactive table.\"\n",
              "              style=\"display:none;\">\n",
              "        \n",
              "  <svg xmlns=\"http://www.w3.org/2000/svg\" height=\"24px\"viewBox=\"0 0 24 24\"\n",
              "       width=\"24px\">\n",
              "    <path d=\"M0 0h24v24H0V0z\" fill=\"none\"/>\n",
              "    <path d=\"M18.56 5.44l.94 2.06.94-2.06 2.06-.94-2.06-.94-.94-2.06-.94 2.06-2.06.94zm-11 1L8.5 8.5l.94-2.06 2.06-.94-2.06-.94L8.5 2.5l-.94 2.06-2.06.94zm10 10l.94 2.06.94-2.06 2.06-.94-2.06-.94-.94-2.06-.94 2.06-2.06.94z\"/><path d=\"M17.41 7.96l-1.37-1.37c-.4-.4-.92-.59-1.43-.59-.52 0-1.04.2-1.43.59L10.3 9.45l-7.72 7.72c-.78.78-.78 2.05 0 2.83L4 21.41c.39.39.9.59 1.41.59.51 0 1.02-.2 1.41-.59l7.78-7.78 2.81-2.81c.8-.78.8-2.07 0-2.86zM5.41 20L4 18.59l7.72-7.72 1.47 1.35L5.41 20z\"/>\n",
              "  </svg>\n",
              "      </button>\n",
              "      \n",
              "  <style>\n",
              "    .colab-df-container {\n",
              "      display:flex;\n",
              "      flex-wrap:wrap;\n",
              "      gap: 12px;\n",
              "    }\n",
              "\n",
              "    .colab-df-convert {\n",
              "      background-color: #E8F0FE;\n",
              "      border: none;\n",
              "      border-radius: 50%;\n",
              "      cursor: pointer;\n",
              "      display: none;\n",
              "      fill: #1967D2;\n",
              "      height: 32px;\n",
              "      padding: 0 0 0 0;\n",
              "      width: 32px;\n",
              "    }\n",
              "\n",
              "    .colab-df-convert:hover {\n",
              "      background-color: #E2EBFA;\n",
              "      box-shadow: 0px 1px 2px rgba(60, 64, 67, 0.3), 0px 1px 3px 1px rgba(60, 64, 67, 0.15);\n",
              "      fill: #174EA6;\n",
              "    }\n",
              "\n",
              "    [theme=dark] .colab-df-convert {\n",
              "      background-color: #3B4455;\n",
              "      fill: #D2E3FC;\n",
              "    }\n",
              "\n",
              "    [theme=dark] .colab-df-convert:hover {\n",
              "      background-color: #434B5C;\n",
              "      box-shadow: 0px 1px 3px 1px rgba(0, 0, 0, 0.15);\n",
              "      filter: drop-shadow(0px 1px 2px rgba(0, 0, 0, 0.3));\n",
              "      fill: #FFFFFF;\n",
              "    }\n",
              "  </style>\n",
              "\n",
              "      <script>\n",
              "        const buttonEl =\n",
              "          document.querySelector('#df-af021b72-fc0d-4bef-946c-7cce94df1533 button.colab-df-convert');\n",
              "        buttonEl.style.display =\n",
              "          google.colab.kernel.accessAllowed ? 'block' : 'none';\n",
              "\n",
              "        async function convertToInteractive(key) {\n",
              "          const element = document.querySelector('#df-af021b72-fc0d-4bef-946c-7cce94df1533');\n",
              "          const dataTable =\n",
              "            await google.colab.kernel.invokeFunction('convertToInteractive',\n",
              "                                                     [key], {});\n",
              "          if (!dataTable) return;\n",
              "\n",
              "          const docLinkHtml = 'Like what you see? Visit the ' +\n",
              "            '<a target=\"_blank\" href=https://colab.research.google.com/notebooks/data_table.ipynb>data table notebook</a>'\n",
              "            + ' to learn more about interactive tables.';\n",
              "          element.innerHTML = '';\n",
              "          dataTable['output_type'] = 'display_data';\n",
              "          await google.colab.output.renderOutput(dataTable, element);\n",
              "          const docLink = document.createElement('div');\n",
              "          docLink.innerHTML = docLinkHtml;\n",
              "          element.appendChild(docLink);\n",
              "        }\n",
              "      </script>\n",
              "    </div>\n",
              "  </div>\n",
              "  "
            ]
          },
          "metadata": {},
          "execution_count": 79
        }
      ],
      "source": [
        "# we will use one hot encoding because in NONE of these columns the order matters\n",
        "dummies = pd.get_dummies(df[categorical_cols])\n",
        "# merging with df\n",
        "merged = pd.concat([df,dummies],axis=1)\n",
        "# deleting categorical cols\n",
        "df = merged.drop(categorical_cols, axis=1)\n",
        "\n",
        "df"
      ]
    },
    {
      "cell_type": "markdown",
      "id": "dkMielMvzIoO",
      "metadata": {
        "id": "dkMielMvzIoO"
      },
      "source": [
        "### Recieving the final dataframe and saving as csv"
      ]
    },
    {
      "cell_type": "code",
      "execution_count": null,
      "id": "4mHaRKmOsZ9b",
      "metadata": {
        "colab": {
          "base_uri": "https://localhost:8080/"
        },
        "id": "4mHaRKmOsZ9b",
        "outputId": "e0483b35-c403-45b7-d5e8-01933d0956e1"
      },
      "outputs": [
        {
          "output_type": "stream",
          "name": "stdout",
          "text": [
            "94\n"
          ]
        }
      ],
      "source": [
        "# since all the columns ending with ' _missing' we made for the purpose of remembering which rows had missing values, we will not\n",
        "# need it in the final CSV so we will drop them (we already have 112 columns which is a bit too much)\n",
        "missing_cols =[]\n",
        "for col in df.columns:\n",
        "  if 'missing' in col:\n",
        "    missing_cols.append(col)\n",
        "df = df.drop(columns = missing_cols)\n",
        "\n",
        "# now we have slightly less columns\n",
        "print(len(list(df.columns)))"
      ]
    },
    {
      "cell_type": "code",
      "execution_count": null,
      "id": "K9KywgCb1DdO",
      "metadata": {
        "id": "K9KywgCb1DdO"
      },
      "outputs": [],
      "source": [
        "df.to_csv('cars_2021_v0.csv')"
      ]
    },
    {
      "cell_type": "code",
      "source": [
        "df.to_csv('final_df.csv', index=False)\n",
        "\n",
        "from google.colab import files\n",
        "\n",
        "files.download('final_df.csv')\n"
      ],
      "metadata": {
        "colab": {
          "base_uri": "https://localhost:8080/",
          "height": 17
        },
        "id": "swTNfXEOIYmI",
        "outputId": "a2230633-1e90-4a7e-b90f-c43cb094a48a"
      },
      "id": "swTNfXEOIYmI",
      "execution_count": null,
      "outputs": [
        {
          "output_type": "display_data",
          "data": {
            "text/plain": [
              "<IPython.core.display.Javascript object>"
            ],
            "application/javascript": [
              "\n",
              "    async function download(id, filename, size) {\n",
              "      if (!google.colab.kernel.accessAllowed) {\n",
              "        return;\n",
              "      }\n",
              "      const div = document.createElement('div');\n",
              "      const label = document.createElement('label');\n",
              "      label.textContent = `Downloading \"${filename}\": `;\n",
              "      div.appendChild(label);\n",
              "      const progress = document.createElement('progress');\n",
              "      progress.max = size;\n",
              "      div.appendChild(progress);\n",
              "      document.body.appendChild(div);\n",
              "\n",
              "      const buffers = [];\n",
              "      let downloaded = 0;\n",
              "\n",
              "      const channel = await google.colab.kernel.comms.open(id);\n",
              "      // Send a message to notify the kernel that we're ready.\n",
              "      channel.send({})\n",
              "\n",
              "      for await (const message of channel.messages) {\n",
              "        // Send a message to notify the kernel that we're ready.\n",
              "        channel.send({})\n",
              "        if (message.buffers) {\n",
              "          for (const buffer of message.buffers) {\n",
              "            buffers.push(buffer);\n",
              "            downloaded += buffer.byteLength;\n",
              "            progress.value = downloaded;\n",
              "          }\n",
              "        }\n",
              "      }\n",
              "      const blob = new Blob(buffers, {type: 'application/binary'});\n",
              "      const a = document.createElement('a');\n",
              "      a.href = window.URL.createObjectURL(blob);\n",
              "      a.download = filename;\n",
              "      div.appendChild(a);\n",
              "      a.click();\n",
              "      div.remove();\n",
              "    }\n",
              "  "
            ]
          },
          "metadata": {}
        },
        {
          "output_type": "display_data",
          "data": {
            "text/plain": [
              "<IPython.core.display.Javascript object>"
            ],
            "application/javascript": [
              "download(\"download_315e21df-0fe3-4e5d-81a6-0db97a3791e5\", \"final_df.csv\", 1375741)"
            ]
          },
          "metadata": {}
        }
      ]
    },
    {
      "cell_type": "markdown",
      "source": [
        "# Summary and Conclusion"
      ],
      "metadata": {
        "id": "ILjvJYDAuoyI"
      },
      "id": "ILjvJYDAuoyI"
    },
    {
      "cell_type": "markdown",
      "id": "G8MDpNIHkqy_",
      "metadata": {
        "id": "G8MDpNIHkqy_"
      },
      "source": [
        "The dataset we received to perform exploratory data analysis on, or EDA for short, contained many different characteristics about vehicles belonging to a variety of car brands. There were 27 different columns present, and there 4081 different vehicles, or unique IDs, in this dataset.  The data types present in this dataset are both categorical and numerical in nature. In order to ensure that the dataset could be cleared of missing values, we used imputation techniques to handle them. There were missing values in both ‘obj’ and ‘float64’ data types, and each one had a different approach to handle said missing values. Mean imputation based on the non-missing data was performed for each numerical data type, and mode imputation was done for the categorical variables.\n",
        "\n",
        " We also had to optimize certain aspects of the data set in order to perform further EDA on it. For example, we had to convert the currency symbol in the ‘price’ column into a float in order to analyze the prices as numerical values.\n",
        "\n",
        "In order to detect outliers, we created a new dataframe ‘df_without_outliers’ and checked \n",
        "The function we created iterated through each column of the dataframe, and if the data type was numeric then it was appended to a list. The z-score was then calculated for the items, and threshold of 3 standard deviations away from the distribution implied that a datapoint was a ‘true’ outlier. After detecting the rows with outliers, the shape of the ‘df_without_outliers was reduced from (5379 x 45) to (4081 x 45).\n",
        "\n",
        "\n",
        "In order to gain a visual representation of data distribution, we generated some boxplots. The shape of these boxplots allows us to infer that the data is very left-skewed, and there were many datapoints outside of the interquartile range. Keeping this in mind, we do not believe that the outliers should be deleted because not only do they account for a considerable portion of the data, but there is also no reason to suspect that they were incorrectly measured or reported. Had there been reasonable suspicion that the data was entered incorrectly then they would have been handled in an appropriate manner; but since there is a lack of conclusive evidence corroborating this idea then they remained in the dataset. \n",
        "\n",
        "In order to identify potential correlations between seemingly arbitrary features of the dataset, we implemented a correlation matrix by removing binary columns in order to preserve missing values.\n",
        "\n",
        "Upon generating the correlation matrix, we found that most of the data points 'mapped' against each other were either virtually unrelated (linearly) or had a relatively weak correlation. There were a couple of high correlation values found, though, and these values will be expanded upon in the ML tasks proposals. The pre-existing high correlation between these predictor variable candidates makes them excellent starting points for a linear regression ML task.\n",
        "\n",
        "After this process, we scaled the numerical values of the dataset in order to gain insight on how far some data points are with respect to others. We did not scale the entire dataset and modify its values; instead, we created a new dataframe, ‘df_scaled’, in order to leave the original intact while still being able to explore the data further.\n",
        "\n",
        "We chose to drop the ‘model’ and ‘version_1’ columns from our data frame because the information they offered was redundant. There are so many different models a vehicle brand can have, and we believe that the insights that can be gained from this dataset are more general in nature; there is no need to identify the specific type of model in overall data processing and algorithm design. Since the order of the variables in the categorial columns is arbitrary, we implemented one hot encoding to convert the aforementioned categorical variables into dummy variables as well. This numerical breakdown allowed for the dataset to be more easily manipulated. \n",
        "\n",
        "The fuel column had a variety of different entries that we had to separate; in order to accomplish this we used ‘multiple hot encoding’ for the aforementioned column. We divided the column into three separate columns, and the hybrid type of vehicle reported as ‘1’, or ‘true’, for both of those columns in the same row. \n",
        "\n",
        "Prior to saving the CSV file, we removed the column that preserved the information about the missing values that were imputated because they would be useless for any algorithm built. \n",
        "\n",
        "When generating plots, we felt that it was important to first ask general questions to guide our data analysis. Based on the visual representation of the data from the graphs, we could then narrow our focus into more semantic aspects of the dataset. We initially began by visualizing the average price of cars across different brands listed in the dataset, and we found that the prices between them varied greatly. The difference in averages between different brands in the dataset was around 230,000 euros from the lowest mean price for Dacia and the highest mean price for Aston Martin.  This particular column was very left-skewed because the values for Aston Martin were much greater at an average of 250,000 euros in comparison to the second highest average of Porsche which landed at around 150,000 euros. \n",
        "\n",
        "Afterwards, we generated a graph to visualize how the average horsepower of a brand varied with respect to other brands. This distribution was also left-skewed much like the aforementioned one— this could perhaps imply that there is some correlation between them. Something noteworthy is that the spread of this latter bar graph has a similar distribution to the former graph of average vehicle price across brands. The greatest horsepower of cars on average per brand also belonged to Aston Martin, and the lowest average horsepower per brand belonged to Smart. Dacia overtook Smart in this particular instance, but Dacia is still in the lowest percentiles of horsepower in this dataset. We can find a similar trend throughout the distribution— for example, we can see that Dacia, Peugeout, Suzuki and Citroen are lacking in both average horsepower and average price. This can imply that the greater the horsepower of a vehicle, the more likely it is to belong to a pricey brand.\n",
        "\n",
        "\n",
        "The distribution for the average warranty period of cars across different brands did not follow a distribution similar to either of the subsets mentioned above. There seems to be a minimal correlation, then, on how the average warranty of a brand is affected by its costliness. The longest average warranty period for a brand was Kia, with a value of 72 months, and it was on the lower end of both of the aforementioned distributions. \n",
        "\n",
        "Another facet of the dataset which we wanted to explore further was how a target variable--- the transmission type--- affected the average horsepower of any vehicle. The type of transmission a car has affects its horsepower because the transmission is the apparatus that mitigates the energy ‘lost’ in the combustion and energy transfer process when running a vehicle. The greater a vehicle’s horsepower, the greater the speed at which it can travel. Since we are hoping to determine whether the type of transmission can affect the horsepower of a given vehicle, we can assume that the two variables are initially independent to interpret the plot generated from the subset of the data.  In order to generate this plot, we sorted the transmission values associated with a specific brand with respect to the mean horsepower associated with that particular transmission. Then, we generated a plot using 'matplotlib' and organized the bins associated with each type of transmission in descending order. What we found, generally speaking, is that automatic transmission vehicles have significantly greater horsepower on average than their manual transmission counterparts.\n",
        "\n",
        "Much like how the transmission of a car is what allows it to reach its top speeds, the fuel a car consumes allows it to travel at varying speeds in different types of terrains. In order to visualize this, we plotted the average fuel consumption of a car in units of (L/100km) with respect to the varying types of transmissions. Based on the graph generated, we can determine that there isn’t a strong trend between how the type of transmission can affect a vehicle’s fuel consumption. \n",
        "\n",
        "In conclusion, the EDA we performed on the provided dataset allowed us to learn much about it that we would never have been able to infer from the '.csv' file alone. We were able to clean the dataset to make it easier to manipulate, generate visual aids and graphs in order to understand how related different variables in the dataset are, and can use this information in order to develop further hypotheses to test by undertaking ML tasks. Practicing these skills helps us practice using the tools necessary to becoming ML engineers with a strong foundation. \n"
      ]
    },
    {
      "cell_type": "markdown",
      "source": [
        "# ML Tasks Candidates Based on Our EDA"
      ],
      "metadata": {
        "id": "3uwpAAePvBV_"
      },
      "id": "3uwpAAePvBV_"
    },
    {
      "cell_type": "markdown",
      "id": "08Ozf9apkmLM",
      "metadata": {
        "id": "08Ozf9apkmLM"
      },
      "source": [
        "*   One model that we could generate would be to see if there is a relationship \n",
        "between a certain type of transmission and the value of the vehicle’s torque.\n",
        "  *   Generally speaking, a vehicle’s horsepower is dependent on its torque— the greater a vehicle’s horsepower, the greater its torque will be. Earlier, we mentioned that we generated plots that allowed us to infer that there is a relationship between the average horsepower of a vehicle and its type of transmission; because of this, it is safe to infer that we could also gain insight as to how this point is reflected in the dataset through generating a model. \n",
        "  *   We believe that, first and foremost, the varying types of transmissions could be split into one of two categories by practicing selection (the transmission will either be automatic or manual) After dividing the training set and generating a rudimentary model that could predict whether a vehicle has ‘automatic’ or ‘manual’ transmission based on a given torque, the model could be fine tuned by introducing subdivisions of the column of interest based on the initial partition. \n",
        "\n",
        "\n",
        "The remaining two models we will propose are inferred from the generation of the correlation matrix. The correlation matrix demonstrated that there is a great distribution between the relationships predicted for all sorts of variables present within the dataset. Of course— when a variable was mapped against itself its correlation coefficient was going to be 1. Getting a value this high is statistically improbable for any other scenario. Keeping this in mind, the fact that we managed to extrapolate two separate relationships with correlation coefficients over 0.8 is noteworthy. The two candidates for modeling are ‘power_1’ vs ‘price’ with an r-value of 0.89, and ‘CO2_emissions’ vs ‘consumption’ with an r-value of 0.94. \n",
        "\n",
        "\n",
        "*   94% of the dataset’s carbon emissions and consumption can be explained by the correlation matrix, and because of this extraordinarily high value we believe that these two variables can be used as predictor variables for a machine learning task. \n",
        "\n",
        "  *   Based on this dataset, we can infer that carbon dioxide emissions and consumption have a strong positive relationship, and perhaps we could map this trend with respect to time and see if technology has a trend to advance to where carbon dioxide emissions can be mitigated in spite of high fuel consumption. \n",
        "  *   In order to generate this model, we would need to create a new column in this dataset that merges the units of consumption and carbon dioxide emissions. \n",
        "  *   After creating this new explanatory variable, we could visualize the target variable by generating a scatter plot with ‘year’ as the independent variable and a new inferred unit, ‘consumption in kilometers/liter over kilotons of CO2’, mapped as the dependent variable. It is important to note that although the units were not explicitly stated in the dataset, an online search helped us determine what specific units would correlated to these particular subsets of data. The nature of this inference leads us to believe that a linear model would be best to build for this task. \n",
        "\n",
        "*   Finally, the third proposed ML task that could be done with this cleansed data is one which can explain the price of a given vehicle based on its power.\n",
        "  *   These two variables have an r value of 0.89 based on the correlation matrix generated. \n",
        "  *   In this proposed model, the explanatory variable would be the power and the target variable to be predicted would be the price.\n",
        "  *   Logically, this relationship makes sense because a car which can run at quicker speeds has to have components which are both more durable and adapted to the increased temperatures that burning fuel at a quicker rate can cause. These components have to be more specialized than anything with which a car with typical horsepower from a range of 180-200 hp. Quicker and more powerful cars also tend to look more unique, posessing trademark features which allow them to be recognizable and emblematic for a brand. A linear regression could be built for these two variables given that the r-value is so high. \n",
        "\n",
        "\n",
        "\n",
        "\n",
        "\n"
      ]
    },
    {
      "cell_type": "code",
      "execution_count": null,
      "id": "8N6E1HGjl2zX",
      "metadata": {
        "id": "8N6E1HGjl2zX"
      },
      "outputs": [],
      "source": []
    }
  ],
  "metadata": {
    "colab": {
      "provenance": [],
      "collapsed_sections": [
        "BeYbptwCkmMN",
        "bkrxlU1SmUEQ",
        "2e295104"
      ],
      "include_colab_link": true
    },
    "kernelspec": {
      "display_name": "Python 3 (ipykernel)",
      "language": "python",
      "name": "python3"
    },
    "language_info": {
      "codemirror_mode": {
        "name": "ipython",
        "version": 3
      },
      "file_extension": ".py",
      "mimetype": "text/x-python",
      "name": "python",
      "nbconvert_exporter": "python",
      "pygments_lexer": "ipython3",
      "version": "3.9.7"
    }
  },
  "nbformat": 4,
  "nbformat_minor": 5
}